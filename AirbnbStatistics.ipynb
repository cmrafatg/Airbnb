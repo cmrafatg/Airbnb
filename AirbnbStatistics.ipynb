{
 "cells": [
  {
   "cell_type": "code",
   "execution_count": 364,
   "id": "b10a24a4-105a-4ad8-8b3c-837aff53ab07",
   "metadata": {},
   "outputs": [],
   "source": [
    "import pandas as pd\n",
    "import numpy as np\n",
    "import matplotlib.pyplot as plt\n",
    "import seaborn as sns\n",
    "from pandas_profiling import ProfileReport\n"
   ]
  },
  {
   "cell_type": "markdown",
   "id": "8528b786-a449-4e9b-8175-d6e9106b58db",
   "metadata": {},
   "source": [
    "<b><h1>We are going to look through and analyze the data set trying to figure out what are the features that affect the price the most.</h1></b>\n",
    "<br><b>Chapter 1: Host Reputation and Superhost Status:</b> How does the host's reputation or Superhost status impact pricing?\n",
    "<br><b>Chapter 2: Location Analysis:</b> How does the location influence the price? Are certain areas more desirable or expensive?\n",
    "<br><b>Chapter 3: Property Type Analysis:</b> What impact does the type of property have on price? Are certain property types more expensive?\n",
    "<br><b>Chapter 4: Amenities and Features:</b> Which amenities/features are associated with higher-priced listings? Do specific amenities significantly affect price?\n",
    "<br><b>Chapter 5: Property Size and Capacity:</b> How does the size and capacity of the property correlate with price?\n",
    "<br><b>Chapter 6: Seasonality and Demand:</b> Does the time of year or demand affect pricing? Are there any trends in pricing fluctuations?\n",
    "<br><b>Chapter 7: Listing Description and Photos:</b> How do the quality of listing descriptions and photos influence price?\n",
    "<br><b>Chapter 8: Competitor Analysis:</b> How does the price of the listing compare to similar listings in the area?\n",
    "<br><b>Chapter 9: External Factors:</b> Are there any external factors like events or local attractions that affect pricing?\n",
    "<br><b>Chapter 10: Booking Dynamics:</b> Does the length of the booking or booking lead time affect price?"
   ]
  },
  {
   "cell_type": "code",
   "execution_count": 365,
   "id": "06f3733f-3e83-427b-96da-26c589eeff4b",
   "metadata": {},
   "outputs": [],
   "source": [
    "df=pd.read_csv('Downloads/listings.csv')"
   ]
  },
  {
   "cell_type": "code",
   "execution_count": 366,
   "id": "49f3604e-5fea-4bd2-a6b8-d70052fadc61",
   "metadata": {},
   "outputs": [
    {
     "data": {
      "text/html": [
       "<div>\n",
       "<style scoped>\n",
       "    .dataframe tbody tr th:only-of-type {\n",
       "        vertical-align: middle;\n",
       "    }\n",
       "\n",
       "    .dataframe tbody tr th {\n",
       "        vertical-align: top;\n",
       "    }\n",
       "\n",
       "    .dataframe thead th {\n",
       "        text-align: right;\n",
       "    }\n",
       "</style>\n",
       "<table border=\"1\" class=\"dataframe\">\n",
       "  <thead>\n",
       "    <tr style=\"text-align: right;\">\n",
       "      <th></th>\n",
       "      <th>id</th>\n",
       "      <th>listing_url</th>\n",
       "      <th>scrape_id</th>\n",
       "      <th>last_scraped</th>\n",
       "      <th>name</th>\n",
       "      <th>summary</th>\n",
       "      <th>space</th>\n",
       "      <th>description</th>\n",
       "      <th>experiences_offered</th>\n",
       "      <th>neighborhood_overview</th>\n",
       "      <th>...</th>\n",
       "      <th>review_scores_value</th>\n",
       "      <th>requires_license</th>\n",
       "      <th>license</th>\n",
       "      <th>jurisdiction_names</th>\n",
       "      <th>instant_bookable</th>\n",
       "      <th>cancellation_policy</th>\n",
       "      <th>require_guest_profile_picture</th>\n",
       "      <th>require_guest_phone_verification</th>\n",
       "      <th>calculated_host_listings_count</th>\n",
       "      <th>reviews_per_month</th>\n",
       "    </tr>\n",
       "  </thead>\n",
       "  <tbody>\n",
       "    <tr>\n",
       "      <th>0</th>\n",
       "      <td>241032</td>\n",
       "      <td>https://www.airbnb.com/rooms/241032</td>\n",
       "      <td>20160104002432</td>\n",
       "      <td>2016-01-04</td>\n",
       "      <td>Stylish Queen Anne Apartment</td>\n",
       "      <td>NaN</td>\n",
       "      <td>Make your self at home in this charming one-be...</td>\n",
       "      <td>Make your self at home in this charming one-be...</td>\n",
       "      <td>none</td>\n",
       "      <td>NaN</td>\n",
       "      <td>...</td>\n",
       "      <td>10.0</td>\n",
       "      <td>f</td>\n",
       "      <td>NaN</td>\n",
       "      <td>WASHINGTON</td>\n",
       "      <td>f</td>\n",
       "      <td>moderate</td>\n",
       "      <td>f</td>\n",
       "      <td>f</td>\n",
       "      <td>2</td>\n",
       "      <td>4.07</td>\n",
       "    </tr>\n",
       "    <tr>\n",
       "      <th>1</th>\n",
       "      <td>953595</td>\n",
       "      <td>https://www.airbnb.com/rooms/953595</td>\n",
       "      <td>20160104002432</td>\n",
       "      <td>2016-01-04</td>\n",
       "      <td>Bright &amp; Airy Queen Anne Apartment</td>\n",
       "      <td>Chemically sensitive? We've removed the irrita...</td>\n",
       "      <td>Beautiful, hypoallergenic apartment in an extr...</td>\n",
       "      <td>Chemically sensitive? We've removed the irrita...</td>\n",
       "      <td>none</td>\n",
       "      <td>Queen Anne is a wonderful, truly functional vi...</td>\n",
       "      <td>...</td>\n",
       "      <td>10.0</td>\n",
       "      <td>f</td>\n",
       "      <td>NaN</td>\n",
       "      <td>WASHINGTON</td>\n",
       "      <td>f</td>\n",
       "      <td>strict</td>\n",
       "      <td>t</td>\n",
       "      <td>t</td>\n",
       "      <td>6</td>\n",
       "      <td>1.48</td>\n",
       "    </tr>\n",
       "    <tr>\n",
       "      <th>2</th>\n",
       "      <td>3308979</td>\n",
       "      <td>https://www.airbnb.com/rooms/3308979</td>\n",
       "      <td>20160104002432</td>\n",
       "      <td>2016-01-04</td>\n",
       "      <td>New Modern House-Amazing water view</td>\n",
       "      <td>New modern house built in 2013.  Spectacular s...</td>\n",
       "      <td>Our house is modern, light and fresh with a wa...</td>\n",
       "      <td>New modern house built in 2013.  Spectacular s...</td>\n",
       "      <td>none</td>\n",
       "      <td>Upper Queen Anne is a charming neighborhood fu...</td>\n",
       "      <td>...</td>\n",
       "      <td>10.0</td>\n",
       "      <td>f</td>\n",
       "      <td>NaN</td>\n",
       "      <td>WASHINGTON</td>\n",
       "      <td>f</td>\n",
       "      <td>strict</td>\n",
       "      <td>f</td>\n",
       "      <td>f</td>\n",
       "      <td>2</td>\n",
       "      <td>1.15</td>\n",
       "    </tr>\n",
       "    <tr>\n",
       "      <th>3</th>\n",
       "      <td>7421966</td>\n",
       "      <td>https://www.airbnb.com/rooms/7421966</td>\n",
       "      <td>20160104002432</td>\n",
       "      <td>2016-01-04</td>\n",
       "      <td>Queen Anne Chateau</td>\n",
       "      <td>A charming apartment that sits atop Queen Anne...</td>\n",
       "      <td>NaN</td>\n",
       "      <td>A charming apartment that sits atop Queen Anne...</td>\n",
       "      <td>none</td>\n",
       "      <td>NaN</td>\n",
       "      <td>...</td>\n",
       "      <td>NaN</td>\n",
       "      <td>f</td>\n",
       "      <td>NaN</td>\n",
       "      <td>WASHINGTON</td>\n",
       "      <td>f</td>\n",
       "      <td>flexible</td>\n",
       "      <td>f</td>\n",
       "      <td>f</td>\n",
       "      <td>1</td>\n",
       "      <td>NaN</td>\n",
       "    </tr>\n",
       "    <tr>\n",
       "      <th>4</th>\n",
       "      <td>278830</td>\n",
       "      <td>https://www.airbnb.com/rooms/278830</td>\n",
       "      <td>20160104002432</td>\n",
       "      <td>2016-01-04</td>\n",
       "      <td>Charming craftsman 3 bdm house</td>\n",
       "      <td>Cozy family craftman house in beautiful neighb...</td>\n",
       "      <td>Cozy family craftman house in beautiful neighb...</td>\n",
       "      <td>Cozy family craftman house in beautiful neighb...</td>\n",
       "      <td>none</td>\n",
       "      <td>We are in the beautiful neighborhood of Queen ...</td>\n",
       "      <td>...</td>\n",
       "      <td>9.0</td>\n",
       "      <td>f</td>\n",
       "      <td>NaN</td>\n",
       "      <td>WASHINGTON</td>\n",
       "      <td>f</td>\n",
       "      <td>strict</td>\n",
       "      <td>f</td>\n",
       "      <td>f</td>\n",
       "      <td>1</td>\n",
       "      <td>0.89</td>\n",
       "    </tr>\n",
       "  </tbody>\n",
       "</table>\n",
       "<p>5 rows × 92 columns</p>\n",
       "</div>"
      ],
      "text/plain": [
       "        id                           listing_url       scrape_id last_scraped  \\\n",
       "0   241032   https://www.airbnb.com/rooms/241032  20160104002432   2016-01-04   \n",
       "1   953595   https://www.airbnb.com/rooms/953595  20160104002432   2016-01-04   \n",
       "2  3308979  https://www.airbnb.com/rooms/3308979  20160104002432   2016-01-04   \n",
       "3  7421966  https://www.airbnb.com/rooms/7421966  20160104002432   2016-01-04   \n",
       "4   278830   https://www.airbnb.com/rooms/278830  20160104002432   2016-01-04   \n",
       "\n",
       "                                  name  \\\n",
       "0         Stylish Queen Anne Apartment   \n",
       "1   Bright & Airy Queen Anne Apartment   \n",
       "2  New Modern House-Amazing water view   \n",
       "3                   Queen Anne Chateau   \n",
       "4       Charming craftsman 3 bdm house   \n",
       "\n",
       "                                             summary  \\\n",
       "0                                                NaN   \n",
       "1  Chemically sensitive? We've removed the irrita...   \n",
       "2  New modern house built in 2013.  Spectacular s...   \n",
       "3  A charming apartment that sits atop Queen Anne...   \n",
       "4  Cozy family craftman house in beautiful neighb...   \n",
       "\n",
       "                                               space  \\\n",
       "0  Make your self at home in this charming one-be...   \n",
       "1  Beautiful, hypoallergenic apartment in an extr...   \n",
       "2  Our house is modern, light and fresh with a wa...   \n",
       "3                                                NaN   \n",
       "4  Cozy family craftman house in beautiful neighb...   \n",
       "\n",
       "                                         description experiences_offered  \\\n",
       "0  Make your self at home in this charming one-be...                none   \n",
       "1  Chemically sensitive? We've removed the irrita...                none   \n",
       "2  New modern house built in 2013.  Spectacular s...                none   \n",
       "3  A charming apartment that sits atop Queen Anne...                none   \n",
       "4  Cozy family craftman house in beautiful neighb...                none   \n",
       "\n",
       "                               neighborhood_overview  ... review_scores_value  \\\n",
       "0                                                NaN  ...                10.0   \n",
       "1  Queen Anne is a wonderful, truly functional vi...  ...                10.0   \n",
       "2  Upper Queen Anne is a charming neighborhood fu...  ...                10.0   \n",
       "3                                                NaN  ...                 NaN   \n",
       "4  We are in the beautiful neighborhood of Queen ...  ...                 9.0   \n",
       "\n",
       "  requires_license license jurisdiction_names instant_bookable  \\\n",
       "0                f     NaN         WASHINGTON                f   \n",
       "1                f     NaN         WASHINGTON                f   \n",
       "2                f     NaN         WASHINGTON                f   \n",
       "3                f     NaN         WASHINGTON                f   \n",
       "4                f     NaN         WASHINGTON                f   \n",
       "\n",
       "  cancellation_policy  require_guest_profile_picture  \\\n",
       "0            moderate                              f   \n",
       "1              strict                              t   \n",
       "2              strict                              f   \n",
       "3            flexible                              f   \n",
       "4              strict                              f   \n",
       "\n",
       "  require_guest_phone_verification calculated_host_listings_count  \\\n",
       "0                                f                              2   \n",
       "1                                t                              6   \n",
       "2                                f                              2   \n",
       "3                                f                              1   \n",
       "4                                f                              1   \n",
       "\n",
       "  reviews_per_month  \n",
       "0              4.07  \n",
       "1              1.48  \n",
       "2              1.15  \n",
       "3               NaN  \n",
       "4              0.89  \n",
       "\n",
       "[5 rows x 92 columns]"
      ]
     },
     "execution_count": 366,
     "metadata": {},
     "output_type": "execute_result"
    }
   ],
   "source": [
    "df.head()"
   ]
  },
  {
   "cell_type": "code",
   "execution_count": 367,
   "id": "8d0806d2-0d98-4306-837d-3ac5c095e563",
   "metadata": {},
   "outputs": [
    {
     "data": {
      "text/plain": [
       "(3818, 92)"
      ]
     },
     "execution_count": 367,
     "metadata": {},
     "output_type": "execute_result"
    }
   ],
   "source": [
    "df.shape"
   ]
  },
  {
   "cell_type": "markdown",
   "id": "83faa230-5dea-4845-ad1d-91d30d0505a6",
   "metadata": {},
   "source": [
    "We are going to look at how different details about the host might influence the price of listings"
   ]
  },
  {
   "cell_type": "code",
   "execution_count": 368,
   "id": "8d0bc540-6985-47cf-ab7f-bd5886a49056",
   "metadata": {},
   "outputs": [
    {
     "data": {
      "text/plain": [
       "Index(['id', 'listing_url', 'scrape_id', 'last_scraped', 'name', 'summary',\n",
       "       'space', 'description', 'experiences_offered', 'neighborhood_overview',\n",
       "       'notes', 'transit', 'thumbnail_url', 'medium_url', 'picture_url',\n",
       "       'xl_picture_url', 'host_id', 'host_url', 'host_name', 'host_since',\n",
       "       'host_location', 'host_about', 'host_response_time',\n",
       "       'host_response_rate', 'host_acceptance_rate', 'host_is_superhost',\n",
       "       'host_thumbnail_url', 'host_picture_url', 'host_neighbourhood',\n",
       "       'host_listings_count', 'host_total_listings_count',\n",
       "       'host_verifications', 'host_has_profile_pic', 'host_identity_verified',\n",
       "       'street', 'neighbourhood', 'neighbourhood_cleansed',\n",
       "       'neighbourhood_group_cleansed', 'city', 'state', 'zipcode', 'market',\n",
       "       'smart_location', 'country_code', 'country', 'latitude', 'longitude',\n",
       "       'is_location_exact', 'property_type', 'room_type', 'accommodates',\n",
       "       'bathrooms', 'bedrooms', 'beds', 'bed_type', 'amenities', 'square_feet',\n",
       "       'price', 'weekly_price', 'monthly_price', 'security_deposit',\n",
       "       'cleaning_fee', 'guests_included', 'extra_people', 'minimum_nights',\n",
       "       'maximum_nights', 'calendar_updated', 'has_availability',\n",
       "       'availability_30', 'availability_60', 'availability_90',\n",
       "       'availability_365', 'calendar_last_scraped', 'number_of_reviews',\n",
       "       'first_review', 'last_review', 'review_scores_rating',\n",
       "       'review_scores_accuracy', 'review_scores_cleanliness',\n",
       "       'review_scores_checkin', 'review_scores_communication',\n",
       "       'review_scores_location', 'review_scores_value', 'requires_license',\n",
       "       'license', 'jurisdiction_names', 'instant_bookable',\n",
       "       'cancellation_policy', 'require_guest_profile_picture',\n",
       "       'require_guest_phone_verification', 'calculated_host_listings_count',\n",
       "       'reviews_per_month'],\n",
       "      dtype='object')"
      ]
     },
     "execution_count": 368,
     "metadata": {},
     "output_type": "execute_result"
    }
   ],
   "source": [
    "df.columns"
   ]
  },
  {
   "cell_type": "markdown",
   "id": "a7369c68-6594-4a23-b437-609a040ea5bb",
   "metadata": {},
   "source": [
    "<b>We are going to look how the 'property_type','room_type' and 'bedrooms' affect the price. We are going to clean and only select the relevant fields for our study"
   ]
  },
  {
   "cell_type": "markdown",
   "id": "5df03d84-2dac-4a35-976a-52611c5628dc",
   "metadata": {},
   "source": [
    "<h1>Cleaning the data</h1>\n",
    "By getting rid of the features not needed and filling the empty spaces\n"
   ]
  },
  {
   "cell_type": "code",
   "execution_count": 369,
   "id": "a1f8b1e8-9972-427c-a88f-fc215338c647",
   "metadata": {},
   "outputs": [
    {
     "data": {
      "text/plain": [
       "(3818, 92)"
      ]
     },
     "execution_count": 369,
     "metadata": {},
     "output_type": "execute_result"
    }
   ],
   "source": [
    "df.shape"
   ]
  },
  {
   "cell_type": "code",
   "execution_count": 370,
   "id": "a4d158a0-6ac2-4274-aecc-063880fa9aee",
   "metadata": {},
   "outputs": [],
   "source": [
    "df['price']=df['price'].str.replace('$','').str.replace('.','').str.replace(',','').astype(float)"
   ]
  },
  {
   "cell_type": "code",
   "execution_count": 371,
   "id": "1e07dedd-d251-4ff9-8de7-55677c4c8e01",
   "metadata": {},
   "outputs": [
    {
     "name": "stdout",
     "output_type": "stream",
     "text": [
      "<class 'pandas.core.frame.DataFrame'>\n",
      "RangeIndex: 3818 entries, 0 to 3817\n",
      "Data columns (total 92 columns):\n",
      " #   Column                            Non-Null Count  Dtype  \n",
      "---  ------                            --------------  -----  \n",
      " 0   id                                3818 non-null   int64  \n",
      " 1   listing_url                       3818 non-null   object \n",
      " 2   scrape_id                         3818 non-null   int64  \n",
      " 3   last_scraped                      3818 non-null   object \n",
      " 4   name                              3818 non-null   object \n",
      " 5   summary                           3641 non-null   object \n",
      " 6   space                             3249 non-null   object \n",
      " 7   description                       3818 non-null   object \n",
      " 8   experiences_offered               3818 non-null   object \n",
      " 9   neighborhood_overview             2786 non-null   object \n",
      " 10  notes                             2212 non-null   object \n",
      " 11  transit                           2884 non-null   object \n",
      " 12  thumbnail_url                     3498 non-null   object \n",
      " 13  medium_url                        3498 non-null   object \n",
      " 14  picture_url                       3818 non-null   object \n",
      " 15  xl_picture_url                    3498 non-null   object \n",
      " 16  host_id                           3818 non-null   int64  \n",
      " 17  host_url                          3818 non-null   object \n",
      " 18  host_name                         3816 non-null   object \n",
      " 19  host_since                        3816 non-null   object \n",
      " 20  host_location                     3810 non-null   object \n",
      " 21  host_about                        2959 non-null   object \n",
      " 22  host_response_time                3295 non-null   object \n",
      " 23  host_response_rate                3295 non-null   object \n",
      " 24  host_acceptance_rate              3045 non-null   object \n",
      " 25  host_is_superhost                 3816 non-null   object \n",
      " 26  host_thumbnail_url                3816 non-null   object \n",
      " 27  host_picture_url                  3816 non-null   object \n",
      " 28  host_neighbourhood                3518 non-null   object \n",
      " 29  host_listings_count               3816 non-null   float64\n",
      " 30  host_total_listings_count         3816 non-null   float64\n",
      " 31  host_verifications                3816 non-null   object \n",
      " 32  host_has_profile_pic              3816 non-null   object \n",
      " 33  host_identity_verified            3816 non-null   object \n",
      " 34  street                            3818 non-null   object \n",
      " 35  neighbourhood                     3402 non-null   object \n",
      " 36  neighbourhood_cleansed            3818 non-null   object \n",
      " 37  neighbourhood_group_cleansed      3818 non-null   object \n",
      " 38  city                              3818 non-null   object \n",
      " 39  state                             3818 non-null   object \n",
      " 40  zipcode                           3811 non-null   object \n",
      " 41  market                            3818 non-null   object \n",
      " 42  smart_location                    3818 non-null   object \n",
      " 43  country_code                      3818 non-null   object \n",
      " 44  country                           3818 non-null   object \n",
      " 45  latitude                          3818 non-null   float64\n",
      " 46  longitude                         3818 non-null   float64\n",
      " 47  is_location_exact                 3818 non-null   object \n",
      " 48  property_type                     3817 non-null   object \n",
      " 49  room_type                         3818 non-null   object \n",
      " 50  accommodates                      3818 non-null   int64  \n",
      " 51  bathrooms                         3802 non-null   float64\n",
      " 52  bedrooms                          3812 non-null   float64\n",
      " 53  beds                              3817 non-null   float64\n",
      " 54  bed_type                          3818 non-null   object \n",
      " 55  amenities                         3818 non-null   object \n",
      " 56  square_feet                       97 non-null     float64\n",
      " 57  price                             3818 non-null   float64\n",
      " 58  weekly_price                      2009 non-null   object \n",
      " 59  monthly_price                     1517 non-null   object \n",
      " 60  security_deposit                  1866 non-null   object \n",
      " 61  cleaning_fee                      2788 non-null   object \n",
      " 62  guests_included                   3818 non-null   int64  \n",
      " 63  extra_people                      3818 non-null   object \n",
      " 64  minimum_nights                    3818 non-null   int64  \n",
      " 65  maximum_nights                    3818 non-null   int64  \n",
      " 66  calendar_updated                  3818 non-null   object \n",
      " 67  has_availability                  3818 non-null   object \n",
      " 68  availability_30                   3818 non-null   int64  \n",
      " 69  availability_60                   3818 non-null   int64  \n",
      " 70  availability_90                   3818 non-null   int64  \n",
      " 71  availability_365                  3818 non-null   int64  \n",
      " 72  calendar_last_scraped             3818 non-null   object \n",
      " 73  number_of_reviews                 3818 non-null   int64  \n",
      " 74  first_review                      3191 non-null   object \n",
      " 75  last_review                       3191 non-null   object \n",
      " 76  review_scores_rating              3171 non-null   float64\n",
      " 77  review_scores_accuracy            3160 non-null   float64\n",
      " 78  review_scores_cleanliness         3165 non-null   float64\n",
      " 79  review_scores_checkin             3160 non-null   float64\n",
      " 80  review_scores_communication       3167 non-null   float64\n",
      " 81  review_scores_location            3163 non-null   float64\n",
      " 82  review_scores_value               3162 non-null   float64\n",
      " 83  requires_license                  3818 non-null   object \n",
      " 84  license                           0 non-null      float64\n",
      " 85  jurisdiction_names                3818 non-null   object \n",
      " 86  instant_bookable                  3818 non-null   object \n",
      " 87  cancellation_policy               3818 non-null   object \n",
      " 88  require_guest_profile_picture     3818 non-null   object \n",
      " 89  require_guest_phone_verification  3818 non-null   object \n",
      " 90  calculated_host_listings_count    3818 non-null   int64  \n",
      " 91  reviews_per_month                 3191 non-null   float64\n",
      "dtypes: float64(18), int64(13), object(61)\n",
      "memory usage: 2.7+ MB\n"
     ]
    }
   ],
   "source": [
    "df.info()"
   ]
  },
  {
   "cell_type": "code",
   "execution_count": 372,
   "id": "98c1700d-1723-4f84-8cfb-5e00d8cff793",
   "metadata": {},
   "outputs": [
    {
     "data": {
      "text/plain": [
       "id                                    0\n",
       "listing_url                           0\n",
       "scrape_id                             0\n",
       "last_scraped                          0\n",
       "name                                  0\n",
       "                                   ... \n",
       "cancellation_policy                   0\n",
       "require_guest_profile_picture         0\n",
       "require_guest_phone_verification      0\n",
       "calculated_host_listings_count        0\n",
       "reviews_per_month                   627\n",
       "Length: 92, dtype: int64"
      ]
     },
     "execution_count": 372,
     "metadata": {},
     "output_type": "execute_result"
    }
   ],
   "source": [
    "df.isna().sum()"
   ]
  },
  {
   "cell_type": "markdown",
   "id": "63658a6b-2884-4e69-8812-71d623cd0c05",
   "metadata": {},
   "source": [
    "<h1>Chapter 1: Host Reputation and Superhost Status</h1>\n",
    "Checking what details about the host influence the price in any way and what is their impact."
   ]
  },
  {
   "cell_type": "code",
   "execution_count": 373,
   "id": "0b71e1d7-c975-4c8a-a46e-3a2434b8beb0",
   "metadata": {},
   "outputs": [],
   "source": [
    "host_columns = [\n",
    "    'host_id', 'host_name', 'host_since', 'host_location', 'host_about',\n",
    "    'host_response_time', 'host_response_rate', 'host_acceptance_rate',\n",
    "    'host_is_superhost', 'host_total_listings_count',\n",
    "    'host_verifications', 'host_has_profile_pic', 'host_identity_verified','price'\n",
    "]\n",
    "\n",
    "host = df[host_columns].copy()\n"
   ]
  },
  {
   "cell_type": "code",
   "execution_count": 374,
   "id": "80bf4913-566f-4ebc-b5c1-35c4d4c2a016",
   "metadata": {},
   "outputs": [],
   "source": [
    "#host.profile_report()"
   ]
  },
  {
   "cell_type": "code",
   "execution_count": 375,
   "id": "62dc2336-fed7-4575-9c36-a89ce97f8b5e",
   "metadata": {},
   "outputs": [],
   "source": [
    "host.drop_duplicates(inplace=True)\n",
    "host.set_index('host_id',inplace=True)"
   ]
  },
  {
   "cell_type": "code",
   "execution_count": 376,
   "id": "d6221bdf-7c08-4b8e-8a8e-5b256f118451",
   "metadata": {},
   "outputs": [],
   "source": [
    "host.dropna(thresh=3,inplace=True)"
   ]
  },
  {
   "cell_type": "code",
   "execution_count": 377,
   "id": "2b81852f-d494-4f80-97cd-a9b6c0a77bc3",
   "metadata": {},
   "outputs": [
    {
     "data": {
      "text/plain": [
       "host_name                      0\n",
       "host_since                     0\n",
       "host_location                  6\n",
       "host_about                   826\n",
       "host_response_time           519\n",
       "host_response_rate           519\n",
       "host_acceptance_rate         764\n",
       "host_is_superhost              0\n",
       "host_total_listings_count      0\n",
       "host_verifications             0\n",
       "host_has_profile_pic           0\n",
       "host_identity_verified         0\n",
       "price                          0\n",
       "dtype: int64"
      ]
     },
     "execution_count": 377,
     "metadata": {},
     "output_type": "execute_result"
    }
   ],
   "source": [
    "host.isna().sum()"
   ]
  },
  {
   "cell_type": "code",
   "execution_count": 378,
   "id": "58016059-421c-451f-be58-f55d369895d6",
   "metadata": {},
   "outputs": [],
   "source": [
    "host.dropna(subset='host_acceptance_rate',inplace=True)"
   ]
  },
  {
   "cell_type": "code",
   "execution_count": 379,
   "id": "cccc4c5f-a8de-4298-941a-a9d35bc34fdf",
   "metadata": {},
   "outputs": [
    {
     "data": {
      "text/plain": [
       "<Axes: xlabel='host_is_superhost'>"
      ]
     },
     "execution_count": 379,
     "metadata": {},
     "output_type": "execute_result"
    },
    {
     "data": {
      "image/png": "[encoded data removed]",
      "text/plain": [
       "<Figure size 640x480 with 1 Axes>"
      ]
     },
     "metadata": {},
     "output_type": "display_data"
    }
   ],
   "source": [
    "mean_price_by_superhost = host.groupby('host_is_superhost')['price'].mean()\n",
    "mean_price_by_superhost.plot(kind='bar', color='skyblue')"
   ]
  },
  {
   "cell_type": "code",
   "execution_count": 380,
   "id": "badf5851-d006-46f5-8721-84e0e1d11a6b",
   "metadata": {},
   "outputs": [
    {
     "name": "stdout",
     "output_type": "stream",
     "text": [
      "<class 'pandas.core.frame.DataFrame'>\n",
      "Index: 2750 entries, 956883 to 46566046\n",
      "Data columns (total 13 columns):\n",
      " #   Column                     Non-Null Count  Dtype  \n",
      "---  ------                     --------------  -----  \n",
      " 0   host_name                  2750 non-null   object \n",
      " 1   host_since                 2750 non-null   object \n",
      " 2   host_location              2747 non-null   object \n",
      " 3   host_about                 2198 non-null   object \n",
      " 4   host_response_time         2732 non-null   object \n",
      " 5   host_response_rate         2732 non-null   object \n",
      " 6   host_acceptance_rate       2750 non-null   object \n",
      " 7   host_is_superhost          2750 non-null   object \n",
      " 8   host_total_listings_count  2750 non-null   float64\n",
      " 9   host_verifications         2750 non-null   object \n",
      " 10  host_has_profile_pic       2750 non-null   object \n",
      " 11  host_identity_verified     2750 non-null   object \n",
      " 12  price                      2750 non-null   float64\n",
      "dtypes: float64(2), object(11)\n",
      "memory usage: 300.8+ KB\n"
     ]
    }
   ],
   "source": [
    "host.info()"
   ]
  },
  {
   "cell_type": "code",
   "execution_count": 381,
   "id": "687fefc8-b4b3-41b1-a959-6a5baaaca88d",
   "metadata": {},
   "outputs": [],
   "source": [
    "host['host_since']=pd.to_datetime(host['host_since'])"
   ]
  },
  {
   "cell_type": "code",
   "execution_count": 382,
   "id": "a70f58a8-981b-427f-b899-2ee8ba65754a",
   "metadata": {},
   "outputs": [
    {
     "name": "stdout",
     "output_type": "stream",
     "text": [
      "<class 'pandas.core.frame.DataFrame'>\n",
      "Index: 2750 entries, 956883 to 46566046\n",
      "Data columns (total 13 columns):\n",
      " #   Column                     Non-Null Count  Dtype         \n",
      "---  ------                     --------------  -----         \n",
      " 0   host_name                  2750 non-null   object        \n",
      " 1   host_since                 2750 non-null   datetime64[ns]\n",
      " 2   host_location              2747 non-null   object        \n",
      " 3   host_about                 2198 non-null   object        \n",
      " 4   host_response_time         2732 non-null   object        \n",
      " 5   host_response_rate         2732 non-null   object        \n",
      " 6   host_acceptance_rate       2750 non-null   object        \n",
      " 7   host_is_superhost          2750 non-null   object        \n",
      " 8   host_total_listings_count  2750 non-null   float64       \n",
      " 9   host_verifications         2750 non-null   object        \n",
      " 10  host_has_profile_pic       2750 non-null   object        \n",
      " 11  host_identity_verified     2750 non-null   object        \n",
      " 12  price                      2750 non-null   float64       \n",
      "dtypes: datetime64[ns](1), float64(2), object(10)\n",
      "memory usage: 300.8+ KB\n"
     ]
    }
   ],
   "source": [
    "host.info()"
   ]
  },
  {
   "cell_type": "code",
   "execution_count": 383,
   "id": "1450719d-2c5a-4d51-b00a-daf85c15f601",
   "metadata": {},
   "outputs": [
    {
     "data": {
      "text/plain": [
       "<Axes: xlabel='host_since'>"
      ]
     },
     "execution_count": 383,
     "metadata": {},
     "output_type": "execute_result"
    },
    {
     "data": {
      "image/png": "[encoded data removed]",
      "text/plain": [
       "<Figure size 640x480 with 1 Axes>"
      ]
     },
     "metadata": {},
     "output_type": "display_data"
    }
   ],
   "source": [
    "host.groupby(host['host_since'].dt.year)['price'].mean().plot(kind='bar')"
   ]
  },
  {
   "cell_type": "code",
   "execution_count": 384,
   "id": "7a1e5209-8b8b-4f98-a31a-29c47c60426f",
   "metadata": {},
   "outputs": [
    {
     "data": {
      "image/png": "[encoded data removed]",
      "text/plain": [
       "<Figure size 640x480 with 1 Axes>"
      ]
     },
     "metadata": {},
     "output_type": "display_data"
    }
   ],
   "source": [
    "import matplotlib.pyplot as plt\n",
    "\n",
    "# Assuming 'host' is your DataFrame\n",
    "\n",
    "# Filter hosts based on the length of 'host_about'\n",
    "hosts_with_description = host[host['host_about'].str.split().str.len() > 10]\n",
    "hosts_without_description = host[host['host_about'].str.split().str.len() <= 10]\n",
    "\n",
    "# Calculate the mean price for each group\n",
    "mean_price_with_description = hosts_with_description['price'].mean()\n",
    "mean_price_without_description = hosts_without_description['price'].mean()\n",
    "\n",
    "# Plot the mean prices\n",
    "plt.bar(['With Description', 'Without Description'], [mean_price_with_description, mean_price_without_description])\n",
    "plt.title('Mean Price Comparison')\n",
    "plt.ylabel('Mean Price')\n",
    "plt.show()\n"
   ]
  },
  {
   "cell_type": "code",
   "execution_count": 385,
   "id": "2008499a-a4c0-4250-9fca-a53e8ab6fe9d",
   "metadata": {},
   "outputs": [
    {
     "name": "stdout",
     "output_type": "stream",
     "text": [
      "With 'host_about':\n",
      "99.70762609022519\n",
      "\n",
      "Without 'host_about':\n",
      "101.16419901029903\n"
     ]
    },
    {
     "data": {
      "text/plain": [
       "1.4565729200738389"
      ]
     },
     "execution_count": 385,
     "metadata": {},
     "output_type": "execute_result"
    }
   ],
   "source": [
    "# Assuming 'host' is your DataFrame\n",
    "\n",
    "# Calculate the total mean price\n",
    "total_mean_price = host['price'].mean()\n",
    "\n",
    "# Calculate the mean price for each category of 'host_is_superhost' and whether they have a 'host_about' or not\n",
    "mean_price_by_superhost_with_about = host[host['host_about'].notnull()]['price'].mean()\n",
    "mean_price_by_superhost_without_about = host[host['host_about'].isnull()]['price'].mean()\n",
    "\n",
    "# Calculate the percentages\n",
    "price_percentages_with_about = (mean_price_by_superhost_with_about / total_mean_price) * 100\n",
    "price_percentages_without_about = (mean_price_by_superhost_without_about / total_mean_price) * 100\n",
    "\n",
    "# Display the percentages\n",
    "print(\"With 'host_about':\")\n",
    "print(price_percentages_with_about)\n",
    "print(\"\\nWithout 'host_about':\")\n",
    "print(price_percentages_without_about)\n",
    "\n",
    "price_percentages_without_about-price_percentages_with_about"
   ]
  },
  {
   "cell_type": "code",
   "execution_count": 386,
   "id": "b0a335ae-2576-42ee-907c-2861f58d90eb",
   "metadata": {},
   "outputs": [
    {
     "data": {
      "text/plain": [
       "<Axes: xlabel='host_response_time'>"
      ]
     },
     "execution_count": 386,
     "metadata": {},
     "output_type": "execute_result"
    },
    {
     "data": {
      "image/png": "[encoded data removed]",
      "text/plain": [
       "<Figure size 640x480 with 1 Axes>"
      ]
     },
     "metadata": {},
     "output_type": "display_data"
    }
   ],
   "source": [
    "host.groupby('host_response_time')['price'].count().plot(kind='bar')"
   ]
  },
  {
   "cell_type": "code",
   "execution_count": 387,
   "id": "75e88240-34b1-4cb6-a04b-e8753456454c",
   "metadata": {},
   "outputs": [
    {
     "data": {
      "text/plain": [
       "<Axes: xlabel='host_response_time'>"
      ]
     },
     "execution_count": 387,
     "metadata": {},
     "output_type": "execute_result"
    },
    {
     "data": {
      "image/png": "[encoded data removed]",
      "text/plain": [
       "<Figure size 640x480 with 1 Axes>"
      ]
     },
     "metadata": {},
     "output_type": "display_data"
    }
   ],
   "source": [
    "host.groupby('host_response_time')['price'].mean().plot(kind='bar')"
   ]
  },
  {
   "cell_type": "code",
   "execution_count": 388,
   "id": "680b54fb-41f3-4ba4-8536-038399bc2176",
   "metadata": {},
   "outputs": [
    {
     "name": "stdout",
     "output_type": "stream",
     "text": [
      "host_is_superhost\n",
      "f    12185.714286\n",
      "t    12681.735160\n",
      "Name: price, dtype: float64\n"
     ]
    },
    {
     "data": {
      "text/plain": [
       "<Axes: xlabel='host_is_superhost'>"
      ]
     },
     "execution_count": 388,
     "metadata": {},
     "output_type": "execute_result"
    },
    {
     "data": {
      "image/png": "[encoded data removed]",
      "text/plain": [
       "<Figure size 640x480 with 1 Axes>"
      ]
     },
     "metadata": {},
     "output_type": "display_data"
    }
   ],
   "source": [
    "print(host.groupby('host_is_superhost')['price'].mean())\n",
    "host.groupby('host_is_superhost')['price'].mean().plot(kind='bar')"
   ]
  },
  {
   "cell_type": "code",
   "execution_count": 389,
   "id": "ff78babf-6840-4949-9cde-d513ce830b7b",
   "metadata": {},
   "outputs": [
    {
     "name": "stdout",
     "output_type": "stream",
     "text": [
      "With 'host_about' (Balanced): 97.69%\n",
      "Without 'host_about' (Balanced): 101.16%\n"
     ]
    }
   ],
   "source": [
    "# Assuming 'host' is your DataFrame\n",
    "\n",
    "# Separate hosts with and without a 'host_about'\n",
    "host_with_about = host[host['host_about'].notnull()]\n",
    "host_without_about = host[host['host_about'].isnull()]\n",
    "\n",
    "# Sample the same number of rows from each group to create balanced subsets\n",
    "sample_size = min(len(host_with_about), len(host_without_about))\n",
    "host_with_about_balanced = host_with_about.sample(n=sample_size, random_state=42)\n",
    "host_without_about_balanced = host_without_about.sample(n=sample_size, random_state=42)\n",
    "\n",
    "# Calculate the total mean price\n",
    "total_mean_price = host['price'].mean()\n",
    "\n",
    "# Calculate the mean price for hosts with and without a 'host_about' in the balanced subsets\n",
    "mean_price_with_about_balanced = host_with_about_balanced['price'].mean()\n",
    "mean_price_without_about_balanced = host_without_about_balanced['price'].mean()\n",
    "\n",
    "# Calculate the percentages\n",
    "price_percentage_with_about_balanced = (mean_price_with_about_balanced / total_mean_price) * 100\n",
    "price_percentage_without_about_balanced = (mean_price_without_about_balanced / total_mean_price) * 100\n",
    "\n",
    "# Display the percentages\n",
    "print(\"With 'host_about' (Balanced): {:.2f}%\".format(price_percentage_with_about_balanced))\n",
    "print(\"Without 'host_about' (Balanced): {:.2f}%\".format(price_percentage_without_about_balanced))\n"
   ]
  },
  {
   "cell_type": "code",
   "execution_count": 390,
   "id": "fcbab5e7-75f8-4c57-a5ce-1c5f3af47ab2",
   "metadata": {},
   "outputs": [
    {
     "name": "stdout",
     "output_type": "stream",
     "text": [
      "With 'host_about': 99.71%\n",
      "Without 'host_about': 101.16%\n"
     ]
    }
   ],
   "source": [
    "# Assuming 'host' is your DataFrame\n",
    "\n",
    "# Calculate the total mean price\n",
    "total_mean_price = host['price'].mean()\n",
    "\n",
    "# Calculate the mean price for hosts with and without a 'host_about'\n",
    "mean_price_with_about = host[host['host_about'].notnull()]['price'].mean()\n",
    "mean_price_without_about = host[host['host_about'].isnull()]['price'].mean()\n",
    "\n",
    "# Calculate the percentages\n",
    "price_percentage_with_about = (mean_price_with_about / total_mean_price) * 100\n",
    "price_percentage_without_about = (mean_price_without_about / total_mean_price) * 100\n",
    "\n",
    "# Display the percentages\n",
    "print(\"With 'host_about': {:.2f}%\".format(price_percentage_with_about))\n",
    "print(\"Without 'host_about': {:.2f}%\".format(price_percentage_without_about))\n"
   ]
  },
  {
   "cell_type": "code",
   "execution_count": 391,
   "id": "6e6e94ff-6902-426c-aae9-6b98681c63c2",
   "metadata": {},
   "outputs": [
    {
     "name": "stdout",
     "output_type": "stream",
     "text": [
      "host_name\n",
      "Jordan     36\n",
      "Michael    31\n",
      "Melissa    27\n",
      "Lisa       26\n",
      "Andrew     26\n",
      "           ..\n",
      "Wade        1\n",
      "Shellie     1\n",
      "Julio       1\n",
      "Gracie      1\n",
      "Glen        1\n",
      "Name: count, Length: 1187, dtype: int64\n",
      "host_since\n",
      "2013-02-04    29\n",
      "2013-08-30    27\n",
      "2011-03-08    25\n",
      "2010-01-27    22\n",
      "2012-07-27    18\n",
      "              ..\n",
      "2012-04-11     1\n",
      "2013-04-30     1\n",
      "2010-08-05     1\n",
      "2011-11-06     1\n",
      "2011-03-27     1\n",
      "Name: count, Length: 1173, dtype: int64\n",
      "host_location\n",
      "Seattle, Washington, United States            2366\n",
      "US                                             159\n",
      "Spokane, Washington, United States              31\n",
      "Kent, Washington, United States                 23\n",
      "Bellevue, Washington, United States             10\n",
      "                                              ... \n",
      "Greenwood Village, Colorado, United States       1\n",
      "Edmonds, Washington, United States               1\n",
      "West Seattle, Washington                         1\n",
      "Vashon Island, Seattle, WA                       1\n",
      "Arlington, Massachusetts, United States          1\n",
      "Name: count, Length: 91, dtype: int64\n",
      "host_about\n",
      "Stay Alfred was created based on the idea of offering short term rentals at an unbelievable price while making the booking process easy and problem free. Stay Alfred acquires properties in high end buildings and condominiums in the best locations to ensure your stay is satisfying and you want to come back. Since we value your return business, we always offer discounts to those who stay in any of our units time after time. We want you to feel at home when you stay with us and that’s why you will always be greeted with a professionally cleaned unit and quality furnishings. We welcome feedback in any kind of way to ensure we are meeting the needs of everyone!\\n\\nWe cater to:\\n\\nUrban Vacations\\nFamily Travel\\nCorporate Housing\\nExtended stay In Denver, Seattle, Bellevue, Spokane, and Portland\\nInsurance and Job Relocation\\nEvents and Weddings \\nMilitary Training and PCS\\nGovernment Workers\\nPet Friendly Vacationers    29\n",
      "Rental and Management company representing over 30 properties in Seattle, Washington!                                                                                                                                                                                                                                                                                                                                                                                                                                                                                                                                                                                                                                                                                                                                                                                                                                                                            25\n",
      "It would be my pleasure to share and explore this wonderful city with you!                                                                                                                                                                                                                                                                                                                                                                                                                                                                                                                                                                                                                                                                                                                                                                                                                                                                                       23\n",
      "My wife, Sally and I are excited for you to stay with us!  We originally purchased a condo in Belltown to use as a second home in the winter of 2007.\\n\\nBecause of our nack at hosting, great marketing, amazing design, what was just an investment, has become a full time business.  We currently have 35 properties in the heart of Downtown Seattle that we either own or manage on the behalf of others.\\n\\nSally is an interior designer by trade, and I'm sure you'll be able to tell when it comes to the quality items to help you feel comfortable while you are staying with us.\\n\\nWe take our position as hosts very seriously.  Our condos are cleaned immaculately and have the best staff in the business.  We are both foodies, and welcome the ability to share with you the best places in the city!\\n\\nThanks, and we look forward to hosting you!                                                                                         22\n",
      "Used to be a professor (Ph.D. in Political Economy), then a homeschooling mom and  a religious non profit organization founder, now like to travel, read / review books and manage properties. The best cities I like are Seattle, Florence, Sanya and Taipei.  (Taipei is chosen as the #1 out of 26 Remarkable Places For Solo Travel by BuzzFeed!  (website hidden)) We have  a few nicely furnished studios and one bedrooms condo apt conveniently located near University of Washington in Seattle with your own private kitchen and bathroom.  You will enjoy the convenient locations and quietness of all these buildings. You will also be surprised how quickly we respond to your requests as long as I am in town.  My motto is Providing Quality Places at Fair Prices and my life motto is in Philippians 4:13.                                                                                                                                   18\n",
      "                                                                                                                                                                                                                                                                                                                                                                                                                                                                                                                                                                                                                                                                                                                                                                                                                                                                                                                                                                 ..\n",
      "I'm a Researcher at the University of Washington working primarily in health economics. I enjoy video games and doing nothing at home a lot.                                                                                                                                                                                                                                                                                                                                                                                                                                                                                                                                                                                                                                                                                                                                                                                                                      1\n",
      "I'm from Texas but i'm living in Seattle, WA pursuing my dream of being a filmmaker!                                                                                                                                                                                                                                                                                                                                                                                                                                                                                                                                                                                                                                                                                                                                                                                                                                                                              1\n",
      "\\nEat well\\nLive well\\nDress well \\nTravel often\\nLearn from others                                                                                                                                                                                                                                                                                                                                                                                                                                                                                                                                                                                                                                                                                                                                                                                                                                                                                               1\n",
      "I am a Real Estate Broker/Realtor w/RE/MAX Northwest since 2002.\\nSpecializing in residential real estate, working with sellers and buyers. \\nI love what I do for a living.\\nMeeting new people and building relationships  is a joy to me. Hosting Airbnb is a lot of fun!\\nWhen not hanging with family, especially my two new grand babies, I am traveling to warm sunny beaches.\\n\\n\"Change is good, travel is a fabulous change from our daily lives. We learn we grow we experience we meet others, we change\".                                                                                                                                                                                                                                                                                                                                                                                                                                            1\n",
      "I am a 58 year old male that is married to Maggie.  We have both lived in the Seattle area our entire life.  I am a part owner of a small company that sells primarily on the internet: (website hidden).  Maggie is a sales rep for a company that sells high end glass and dinner ware.  I am a avid golfer and we both love to travel and spend time with our children and friends                                                                                                                                                                                                                                                                                                                                                                                                                                                                                                                                                                             1\n",
      "Name: count, Length: 1552, dtype: int64\n",
      "host_response_time\n",
      "within an hour        1416\n",
      "within a few hours     822\n",
      "within a day           462\n",
      "a few days or more      32\n",
      "Name: count, dtype: int64\n",
      "host_response_rate\n",
      "100%    1992\n",
      "90%      134\n",
      "80%       84\n",
      "88%       54\n",
      "99%       53\n",
      "67%       35\n",
      "94%       33\n",
      "50%       33\n",
      "86%       28\n",
      "89%       27\n",
      "75%       24\n",
      "70%       24\n",
      "96%       23\n",
      "60%       20\n",
      "83%       20\n",
      "97%       20\n",
      "98%       15\n",
      "92%       15\n",
      "93%       13\n",
      "40%       12\n",
      "33%        9\n",
      "78%        7\n",
      "95%        7\n",
      "63%        7\n",
      "71%        6\n",
      "91%        5\n",
      "43%        4\n",
      "64%        3\n",
      "87%        3\n",
      "25%        2\n",
      "57%        2\n",
      "58%        2\n",
      "76%        2\n",
      "82%        2\n",
      "17%        2\n",
      "65%        1\n",
      "68%        1\n",
      "53%        1\n",
      "69%        1\n",
      "30%        1\n",
      "56%        1\n",
      "38%        1\n",
      "81%        1\n",
      "31%        1\n",
      "55%        1\n",
      "Name: count, dtype: int64\n",
      "host_acceptance_rate\n",
      "100%    2749\n",
      "0%         1\n",
      "Name: count, dtype: int64\n",
      "host_is_superhost\n",
      "f    2093\n",
      "t     657\n",
      "Name: count, dtype: int64\n",
      "host_total_listings_count\n",
      "1.0      1501\n",
      "2.0       511\n",
      "3.0       212\n",
      "4.0       123\n",
      "5.0        80\n",
      "6.0        41\n",
      "34.0       40\n",
      "169.0      29\n",
      "36.0       25\n",
      "7.0        24\n",
      "48.0       23\n",
      "10.0       20\n",
      "9.0        19\n",
      "11.0       15\n",
      "8.0        14\n",
      "21.0       11\n",
      "18.0       11\n",
      "37.0       10\n",
      "354.0      10\n",
      "12.0        8\n",
      "13.0        7\n",
      "19.0        4\n",
      "163.0       3\n",
      "17.0        3\n",
      "502.0       2\n",
      "15.0        2\n",
      "84.0        2\n",
      "Name: count, dtype: int64\n",
      "host_verifications\n",
      "['email', 'phone', 'facebook', 'reviews', 'kba']                        437\n",
      "['email', 'phone', 'reviews', 'kba']                                    316\n",
      "['email', 'phone', 'facebook', 'reviews', 'jumio']                      252\n",
      "['email', 'phone', 'reviews']                                           240\n",
      "['email', 'phone', 'reviews', 'jumio']                                  153\n",
      "                                                                       ... \n",
      "['email', 'phone', 'facebook', 'amex', 'reviews', 'kba']                  1\n",
      "['phone', 'facebook', 'google', 'linkedin', 'reviews', 'jumio']           1\n",
      "['email', 'phone', 'facebook', 'google', 'amex', 'reviews', 'jumio']      1\n",
      "['phone', 'facebook', 'reviews', 'kba']                                   1\n",
      "['email', 'phone', 'facebook', 'linkedin', 'amex', 'reviews', 'kba']      1\n",
      "Name: count, Length: 96, dtype: int64\n",
      "host_has_profile_pic\n",
      "t    2747\n",
      "f       3\n",
      "Name: count, dtype: int64\n",
      "host_identity_verified\n",
      "t    2233\n",
      "f     517\n",
      "Name: count, dtype: int64\n",
      "price\n",
      "10000.0    107\n",
      "15000.0    103\n",
      "7500.0      86\n",
      "8500.0      85\n",
      "9500.0      85\n",
      "          ... \n",
      "34800.0      1\n",
      "40500.0      1\n",
      "32000.0      1\n",
      "99900.0      1\n",
      "35900.0      1\n",
      "Name: count, Length: 246, dtype: int64\n"
     ]
    }
   ],
   "source": [
    "for col in host.columns:\n",
    "    print(host[col].value_counts())\n",
    "    "
   ]
  },
  {
   "cell_type": "code",
   "execution_count": 392,
   "id": "9e0d8406-f6d9-493d-bac8-0eca8f5df7f3",
   "metadata": {},
   "outputs": [
    {
     "data": {
      "text/plain": [
       "<Axes: xlabel='host_response_rate'>"
      ]
     },
     "execution_count": 392,
     "metadata": {},
     "output_type": "execute_result"
    },
    {
     "data": {
      "image/png": "[encoded data removed]",
      "text/plain": [
       "<Figure size 640x480 with 1 Axes>"
      ]
     },
     "metadata": {},
     "output_type": "display_data"
    }
   ],
   "source": [
    "host.groupby(host['host_response_rate'])['price'].mean().sort_values().plot()"
   ]
  },
  {
   "cell_type": "code",
   "execution_count": 393,
   "id": "3a629aa8-8fb2-456c-a73e-9c99d1b513fe",
   "metadata": {},
   "outputs": [
    {
     "data": {
      "text/plain": [
       "host_name                      0\n",
       "host_since                     0\n",
       "host_location                  3\n",
       "host_about                   552\n",
       "host_response_time            18\n",
       "host_response_rate            18\n",
       "host_acceptance_rate           0\n",
       "host_is_superhost              0\n",
       "host_total_listings_count      0\n",
       "host_verifications             0\n",
       "host_has_profile_pic           0\n",
       "host_identity_verified         0\n",
       "price                          0\n",
       "dtype: int64"
      ]
     },
     "execution_count": 393,
     "metadata": {},
     "output_type": "execute_result"
    }
   ],
   "source": [
    "host.isna().sum()"
   ]
  },
  {
   "cell_type": "code",
   "execution_count": 394,
   "id": "7c52f150-8ff5-47e9-bd6e-08710f369ab0",
   "metadata": {},
   "outputs": [
    {
     "name": "stdout",
     "output_type": "stream",
     "text": [
      "Axes(0.125,0.11;0.775x0.77)\n"
     ]
    },
    {
     "data": {
      "image/png": "[encoded data removed]",
      "text/plain": [
       "<Figure size 640x480 with 1 Axes>"
      ]
     },
     "metadata": {},
     "output_type": "display_data"
    }
   ],
   "source": [
    "# Check for missing data in the specified features\n",
    "missing_data = host[['host_about', 'host_response_time', 'host_response_rate', 'host_acceptance_rate']].isnull().any(axis=1)\n",
    "\n",
    "# Group the data based on whether there's missing data in any of these features\n",
    "grouped_data = host.groupby(missing_data)['price'].mean().plot(kind='bar')\n",
    "plt.title('Missing data ')\n",
    "# Display the differences\n",
    "print(grouped_data)\n"
   ]
  },
  {
   "cell_type": "code",
   "execution_count": 395,
   "id": "5417fb85-d78b-4e68-92f0-23d1a2a9a69e",
   "metadata": {},
   "outputs": [
    {
     "data": {
      "text/plain": [
       "False    2189\n",
       "True      561\n",
       "Name: count, dtype: int64"
      ]
     },
     "execution_count": 395,
     "metadata": {},
     "output_type": "execute_result"
    }
   ],
   "source": [
    "missing_data.value_counts()"
   ]
  },
  {
   "cell_type": "markdown",
   "id": "1af32140-8de7-44f8-a182-946ec80ed204",
   "metadata": {},
   "source": [
    "<h2>Host Reputation and Superhost Status Conclusion:</h2>\n",
    "<ul>\n",
    "<li>The correlation between the Host  and the Price seems relatively weak overall.</li>\n",
    "<li>One notable exception is the strong relationship between 'host_response_time' and 'price', which appears to be linear and consistent across the data. This suggests that hosts with faster response times may command higher prices.</li>\n",
    "<li>Regarding <b>superhost</b> status, our analysis indicates a modest difference in price between superhosts and regular hosts, with superhosts commanding slightly higher prices (approximately +4%). This could be attributed to the trust and reliability associated with superhost status, influencing guests' willingness to pay a premium.</li>\n",
    "<li>An intriguing finding is that missing host data does not significantly impact price. Surprisingly, hosts with missing details tend to have slightly higher prices (+1.5%). This phenomenon may stem from various factors, such as hosts being new to the platform and experimenting with pricing strategies.</li>\n",
    "</ul>\n"
   ]
  },
  {
   "cell_type": "markdown",
   "id": "224c197f-9b06-4c8b-ae54-26380fb4a387",
   "metadata": {},
   "source": [
    "<h1>Chapter 2: Location Analysis</h1>"
   ]
  },
  {
   "cell_type": "code",
   "execution_count": 473,
   "id": "8aa14026-7586-4e7a-a115-947cf4055832",
   "metadata": {},
   "outputs": [
    {
     "data": {
      "text/html": [
       "<div>\n",
       "<style scoped>\n",
       "    .dataframe tbody tr th:only-of-type {\n",
       "        vertical-align: middle;\n",
       "    }\n",
       "\n",
       "    .dataframe tbody tr th {\n",
       "        vertical-align: top;\n",
       "    }\n",
       "\n",
       "    .dataframe thead th {\n",
       "        text-align: right;\n",
       "    }\n",
       "</style>\n",
       "<table border=\"1\" class=\"dataframe\">\n",
       "  <thead>\n",
       "    <tr style=\"text-align: right;\">\n",
       "      <th></th>\n",
       "      <th>neighbourhood</th>\n",
       "      <th>neighbourhood_cleansed</th>\n",
       "      <th>neighbourhood_group_cleansed</th>\n",
       "      <th>city</th>\n",
       "      <th>state</th>\n",
       "      <th>zipcode</th>\n",
       "      <th>market</th>\n",
       "      <th>smart_location</th>\n",
       "      <th>country_code</th>\n",
       "      <th>country</th>\n",
       "      <th>latitude</th>\n",
       "      <th>longitude</th>\n",
       "      <th>is_location_exact</th>\n",
       "      <th>host_location</th>\n",
       "      <th>host_neighbourhood</th>\n",
       "      <th>price</th>\n",
       "    </tr>\n",
       "  </thead>\n",
       "  <tbody>\n",
       "    <tr>\n",
       "      <th>0</th>\n",
       "      <td>Queen Anne</td>\n",
       "      <td>West Queen Anne</td>\n",
       "      <td>Queen Anne</td>\n",
       "      <td>Seattle</td>\n",
       "      <td>WA</td>\n",
       "      <td>98119</td>\n",
       "      <td>Seattle</td>\n",
       "      <td>Seattle, WA</td>\n",
       "      <td>US</td>\n",
       "      <td>United States</td>\n",
       "      <td>47.636289</td>\n",
       "      <td>-122.371025</td>\n",
       "      <td>t</td>\n",
       "      <td>Seattle, Washington, United States</td>\n",
       "      <td>Queen Anne</td>\n",
       "      <td>8500.0</td>\n",
       "    </tr>\n",
       "    <tr>\n",
       "      <th>1</th>\n",
       "      <td>Queen Anne</td>\n",
       "      <td>West Queen Anne</td>\n",
       "      <td>Queen Anne</td>\n",
       "      <td>Seattle</td>\n",
       "      <td>WA</td>\n",
       "      <td>98119</td>\n",
       "      <td>Seattle</td>\n",
       "      <td>Seattle, WA</td>\n",
       "      <td>US</td>\n",
       "      <td>United States</td>\n",
       "      <td>47.639123</td>\n",
       "      <td>-122.365666</td>\n",
       "      <td>t</td>\n",
       "      <td>Seattle, Washington, United States</td>\n",
       "      <td>Queen Anne</td>\n",
       "      <td>15000.0</td>\n",
       "    </tr>\n",
       "    <tr>\n",
       "      <th>2</th>\n",
       "      <td>Queen Anne</td>\n",
       "      <td>West Queen Anne</td>\n",
       "      <td>Queen Anne</td>\n",
       "      <td>Seattle</td>\n",
       "      <td>WA</td>\n",
       "      <td>98119</td>\n",
       "      <td>Seattle</td>\n",
       "      <td>Seattle, WA</td>\n",
       "      <td>US</td>\n",
       "      <td>United States</td>\n",
       "      <td>47.629724</td>\n",
       "      <td>-122.369483</td>\n",
       "      <td>t</td>\n",
       "      <td>Seattle, Washington, United States</td>\n",
       "      <td>Queen Anne</td>\n",
       "      <td>97500.0</td>\n",
       "    </tr>\n",
       "    <tr>\n",
       "      <th>3</th>\n",
       "      <td>Queen Anne</td>\n",
       "      <td>West Queen Anne</td>\n",
       "      <td>Queen Anne</td>\n",
       "      <td>Seattle</td>\n",
       "      <td>WA</td>\n",
       "      <td>98119</td>\n",
       "      <td>Seattle</td>\n",
       "      <td>Seattle, WA</td>\n",
       "      <td>US</td>\n",
       "      <td>United States</td>\n",
       "      <td>47.638473</td>\n",
       "      <td>-122.369279</td>\n",
       "      <td>t</td>\n",
       "      <td>Seattle, Washington, United States</td>\n",
       "      <td>Queen Anne</td>\n",
       "      <td>10000.0</td>\n",
       "    </tr>\n",
       "    <tr>\n",
       "      <th>4</th>\n",
       "      <td>Queen Anne</td>\n",
       "      <td>West Queen Anne</td>\n",
       "      <td>Queen Anne</td>\n",
       "      <td>Seattle</td>\n",
       "      <td>WA</td>\n",
       "      <td>98119</td>\n",
       "      <td>Seattle</td>\n",
       "      <td>Seattle, WA</td>\n",
       "      <td>US</td>\n",
       "      <td>United States</td>\n",
       "      <td>47.632918</td>\n",
       "      <td>-122.372471</td>\n",
       "      <td>t</td>\n",
       "      <td>Seattle, Washington, United States</td>\n",
       "      <td>Queen Anne</td>\n",
       "      <td>45000.0</td>\n",
       "    </tr>\n",
       "    <tr>\n",
       "      <th>...</th>\n",
       "      <td>...</td>\n",
       "      <td>...</td>\n",
       "      <td>...</td>\n",
       "      <td>...</td>\n",
       "      <td>...</td>\n",
       "      <td>...</td>\n",
       "      <td>...</td>\n",
       "      <td>...</td>\n",
       "      <td>...</td>\n",
       "      <td>...</td>\n",
       "      <td>...</td>\n",
       "      <td>...</td>\n",
       "      <td>...</td>\n",
       "      <td>...</td>\n",
       "      <td>...</td>\n",
       "      <td>...</td>\n",
       "    </tr>\n",
       "    <tr>\n",
       "      <th>3813</th>\n",
       "      <td>Fremont</td>\n",
       "      <td>Fremont</td>\n",
       "      <td>Other neighborhoods</td>\n",
       "      <td>Seattle</td>\n",
       "      <td>WA</td>\n",
       "      <td>98107</td>\n",
       "      <td>Seattle</td>\n",
       "      <td>Seattle, WA</td>\n",
       "      <td>US</td>\n",
       "      <td>United States</td>\n",
       "      <td>47.664295</td>\n",
       "      <td>-122.359170</td>\n",
       "      <td>t</td>\n",
       "      <td>US</td>\n",
       "      <td>Holly</td>\n",
       "      <td>35900.0</td>\n",
       "    </tr>\n",
       "    <tr>\n",
       "      <th>3814</th>\n",
       "      <td>Portage Bay</td>\n",
       "      <td>Portage Bay</td>\n",
       "      <td>Capitol Hill</td>\n",
       "      <td>Seattle</td>\n",
       "      <td>WA</td>\n",
       "      <td>98102</td>\n",
       "      <td>Seattle</td>\n",
       "      <td>Seattle, WA</td>\n",
       "      <td>US</td>\n",
       "      <td>United States</td>\n",
       "      <td>47.649552</td>\n",
       "      <td>-122.318309</td>\n",
       "      <td>t</td>\n",
       "      <td>Seattle, Washington, United States</td>\n",
       "      <td>Portage Bay</td>\n",
       "      <td>7900.0</td>\n",
       "    </tr>\n",
       "    <tr>\n",
       "      <th>3815</th>\n",
       "      <td>NaN</td>\n",
       "      <td>Rainier Beach</td>\n",
       "      <td>Rainier Valley</td>\n",
       "      <td>Seattle</td>\n",
       "      <td>WA</td>\n",
       "      <td>98178</td>\n",
       "      <td>Seattle</td>\n",
       "      <td>Seattle, WA</td>\n",
       "      <td>US</td>\n",
       "      <td>United States</td>\n",
       "      <td>47.508453</td>\n",
       "      <td>-122.240607</td>\n",
       "      <td>f</td>\n",
       "      <td>US</td>\n",
       "      <td>NaN</td>\n",
       "      <td>9300.0</td>\n",
       "    </tr>\n",
       "    <tr>\n",
       "      <th>3816</th>\n",
       "      <td>NaN</td>\n",
       "      <td>Madison Park</td>\n",
       "      <td>Capitol Hill</td>\n",
       "      <td>Seattle</td>\n",
       "      <td>WA</td>\n",
       "      <td>98112</td>\n",
       "      <td>Seattle</td>\n",
       "      <td>Seattle, WA</td>\n",
       "      <td>US</td>\n",
       "      <td>United States</td>\n",
       "      <td>47.632335</td>\n",
       "      <td>-122.275530</td>\n",
       "      <td>f</td>\n",
       "      <td>Tacoma, Washington, United States</td>\n",
       "      <td>NaN</td>\n",
       "      <td>9900.0</td>\n",
       "    </tr>\n",
       "    <tr>\n",
       "      <th>3817</th>\n",
       "      <td>Queen Anne</td>\n",
       "      <td>East Queen Anne</td>\n",
       "      <td>Queen Anne</td>\n",
       "      <td>Seattle</td>\n",
       "      <td>WA</td>\n",
       "      <td>98109</td>\n",
       "      <td>Seattle</td>\n",
       "      <td>Seattle, WA</td>\n",
       "      <td>US</td>\n",
       "      <td>United States</td>\n",
       "      <td>47.641186</td>\n",
       "      <td>-122.342085</td>\n",
       "      <td>t</td>\n",
       "      <td>Seattle, Washington, United States</td>\n",
       "      <td>Queen Anne</td>\n",
       "      <td>8700.0</td>\n",
       "    </tr>\n",
       "  </tbody>\n",
       "</table>\n",
       "<p>3818 rows × 16 columns</p>\n",
       "</div>"
      ],
      "text/plain": [
       "     neighbourhood neighbourhood_cleansed neighbourhood_group_cleansed  \\\n",
       "0       Queen Anne        West Queen Anne                   Queen Anne   \n",
       "1       Queen Anne        West Queen Anne                   Queen Anne   \n",
       "2       Queen Anne        West Queen Anne                   Queen Anne   \n",
       "3       Queen Anne        West Queen Anne                   Queen Anne   \n",
       "4       Queen Anne        West Queen Anne                   Queen Anne   \n",
       "...            ...                    ...                          ...   \n",
       "3813       Fremont                Fremont          Other neighborhoods   \n",
       "3814   Portage Bay            Portage Bay                 Capitol Hill   \n",
       "3815           NaN          Rainier Beach               Rainier Valley   \n",
       "3816           NaN           Madison Park                 Capitol Hill   \n",
       "3817    Queen Anne        East Queen Anne                   Queen Anne   \n",
       "\n",
       "         city state zipcode   market smart_location country_code  \\\n",
       "0     Seattle    WA   98119  Seattle    Seattle, WA           US   \n",
       "1     Seattle    WA   98119  Seattle    Seattle, WA           US   \n",
       "2     Seattle    WA   98119  Seattle    Seattle, WA           US   \n",
       "3     Seattle    WA   98119  Seattle    Seattle, WA           US   \n",
       "4     Seattle    WA   98119  Seattle    Seattle, WA           US   \n",
       "...       ...   ...     ...      ...            ...          ...   \n",
       "3813  Seattle    WA   98107  Seattle    Seattle, WA           US   \n",
       "3814  Seattle    WA   98102  Seattle    Seattle, WA           US   \n",
       "3815  Seattle    WA   98178  Seattle    Seattle, WA           US   \n",
       "3816  Seattle    WA   98112  Seattle    Seattle, WA           US   \n",
       "3817  Seattle    WA   98109  Seattle    Seattle, WA           US   \n",
       "\n",
       "            country   latitude   longitude is_location_exact  \\\n",
       "0     United States  47.636289 -122.371025                 t   \n",
       "1     United States  47.639123 -122.365666                 t   \n",
       "2     United States  47.629724 -122.369483                 t   \n",
       "3     United States  47.638473 -122.369279                 t   \n",
       "4     United States  47.632918 -122.372471                 t   \n",
       "...             ...        ...         ...               ...   \n",
       "3813  United States  47.664295 -122.359170                 t   \n",
       "3814  United States  47.649552 -122.318309                 t   \n",
       "3815  United States  47.508453 -122.240607                 f   \n",
       "3816  United States  47.632335 -122.275530                 f   \n",
       "3817  United States  47.641186 -122.342085                 t   \n",
       "\n",
       "                           host_location host_neighbourhood    price  \n",
       "0     Seattle, Washington, United States         Queen Anne   8500.0  \n",
       "1     Seattle, Washington, United States         Queen Anne  15000.0  \n",
       "2     Seattle, Washington, United States         Queen Anne  97500.0  \n",
       "3     Seattle, Washington, United States         Queen Anne  10000.0  \n",
       "4     Seattle, Washington, United States         Queen Anne  45000.0  \n",
       "...                                  ...                ...      ...  \n",
       "3813                                  US              Holly  35900.0  \n",
       "3814  Seattle, Washington, United States        Portage Bay   7900.0  \n",
       "3815                                  US                NaN   9300.0  \n",
       "3816   Tacoma, Washington, United States                NaN   9900.0  \n",
       "3817  Seattle, Washington, United States         Queen Anne   8700.0  \n",
       "\n",
       "[3818 rows x 16 columns]"
      ]
     },
     "execution_count": 473,
     "metadata": {},
     "output_type": "execute_result"
    }
   ],
   "source": [
    "loc=df[['neighbourhood', 'neighbourhood_cleansed', 'neighbourhood_group_cleansed', \n",
    "                   'city', 'state', 'zipcode', 'market', 'smart_location', \n",
    "                   'country_code', 'country', 'latitude', 'longitude', 'is_location_exact',\n",
    "                   'host_location', 'host_neighbourhood','price']].copy()\n",
    "loc"
   ]
  },
  {
   "cell_type": "code",
   "execution_count": 474,
   "id": "16f00167-7ad1-4424-90b5-888de2da6cad",
   "metadata": {},
   "outputs": [],
   "source": [
    "#loc.profile_report()"
   ]
  },
  {
   "cell_type": "code",
   "execution_count": 475,
   "id": "66b8cc0d-27e1-4015-896e-7ee7472cfe6f",
   "metadata": {},
   "outputs": [],
   "source": [
    "loc.drop(columns=['city','state','market','country_code','country','smart_location','host_location','host_neighbourhood','neighbourhood'],axis=1,inplace=True)"
   ]
  },
  {
   "cell_type": "code",
   "execution_count": 476,
   "id": "99c80974-0f95-42df-b7bc-a67b686c0d9b",
   "metadata": {},
   "outputs": [
    {
     "data": {
      "text/html": [
       "<div>\n",
       "<style scoped>\n",
       "    .dataframe tbody tr th:only-of-type {\n",
       "        vertical-align: middle;\n",
       "    }\n",
       "\n",
       "    .dataframe tbody tr th {\n",
       "        vertical-align: top;\n",
       "    }\n",
       "\n",
       "    .dataframe thead th {\n",
       "        text-align: right;\n",
       "    }\n",
       "</style>\n",
       "<table border=\"1\" class=\"dataframe\">\n",
       "  <thead>\n",
       "    <tr style=\"text-align: right;\">\n",
       "      <th></th>\n",
       "      <th>neighbourhood_cleansed</th>\n",
       "      <th>neighbourhood_group_cleansed</th>\n",
       "      <th>zipcode</th>\n",
       "      <th>latitude</th>\n",
       "      <th>longitude</th>\n",
       "      <th>is_location_exact</th>\n",
       "      <th>price</th>\n",
       "    </tr>\n",
       "  </thead>\n",
       "  <tbody>\n",
       "    <tr>\n",
       "      <th>0</th>\n",
       "      <td>West Queen Anne</td>\n",
       "      <td>Queen Anne</td>\n",
       "      <td>98119</td>\n",
       "      <td>47.636289</td>\n",
       "      <td>-122.371025</td>\n",
       "      <td>t</td>\n",
       "      <td>8500.0</td>\n",
       "    </tr>\n",
       "    <tr>\n",
       "      <th>1</th>\n",
       "      <td>West Queen Anne</td>\n",
       "      <td>Queen Anne</td>\n",
       "      <td>98119</td>\n",
       "      <td>47.639123</td>\n",
       "      <td>-122.365666</td>\n",
       "      <td>t</td>\n",
       "      <td>15000.0</td>\n",
       "    </tr>\n",
       "    <tr>\n",
       "      <th>2</th>\n",
       "      <td>West Queen Anne</td>\n",
       "      <td>Queen Anne</td>\n",
       "      <td>98119</td>\n",
       "      <td>47.629724</td>\n",
       "      <td>-122.369483</td>\n",
       "      <td>t</td>\n",
       "      <td>97500.0</td>\n",
       "    </tr>\n",
       "    <tr>\n",
       "      <th>3</th>\n",
       "      <td>West Queen Anne</td>\n",
       "      <td>Queen Anne</td>\n",
       "      <td>98119</td>\n",
       "      <td>47.638473</td>\n",
       "      <td>-122.369279</td>\n",
       "      <td>t</td>\n",
       "      <td>10000.0</td>\n",
       "    </tr>\n",
       "    <tr>\n",
       "      <th>4</th>\n",
       "      <td>West Queen Anne</td>\n",
       "      <td>Queen Anne</td>\n",
       "      <td>98119</td>\n",
       "      <td>47.632918</td>\n",
       "      <td>-122.372471</td>\n",
       "      <td>t</td>\n",
       "      <td>45000.0</td>\n",
       "    </tr>\n",
       "    <tr>\n",
       "      <th>...</th>\n",
       "      <td>...</td>\n",
       "      <td>...</td>\n",
       "      <td>...</td>\n",
       "      <td>...</td>\n",
       "      <td>...</td>\n",
       "      <td>...</td>\n",
       "      <td>...</td>\n",
       "    </tr>\n",
       "    <tr>\n",
       "      <th>3813</th>\n",
       "      <td>Fremont</td>\n",
       "      <td>Other neighborhoods</td>\n",
       "      <td>98107</td>\n",
       "      <td>47.664295</td>\n",
       "      <td>-122.359170</td>\n",
       "      <td>t</td>\n",
       "      <td>35900.0</td>\n",
       "    </tr>\n",
       "    <tr>\n",
       "      <th>3814</th>\n",
       "      <td>Portage Bay</td>\n",
       "      <td>Capitol Hill</td>\n",
       "      <td>98102</td>\n",
       "      <td>47.649552</td>\n",
       "      <td>-122.318309</td>\n",
       "      <td>t</td>\n",
       "      <td>7900.0</td>\n",
       "    </tr>\n",
       "    <tr>\n",
       "      <th>3815</th>\n",
       "      <td>Rainier Beach</td>\n",
       "      <td>Rainier Valley</td>\n",
       "      <td>98178</td>\n",
       "      <td>47.508453</td>\n",
       "      <td>-122.240607</td>\n",
       "      <td>f</td>\n",
       "      <td>9300.0</td>\n",
       "    </tr>\n",
       "    <tr>\n",
       "      <th>3816</th>\n",
       "      <td>Madison Park</td>\n",
       "      <td>Capitol Hill</td>\n",
       "      <td>98112</td>\n",
       "      <td>47.632335</td>\n",
       "      <td>-122.275530</td>\n",
       "      <td>f</td>\n",
       "      <td>9900.0</td>\n",
       "    </tr>\n",
       "    <tr>\n",
       "      <th>3817</th>\n",
       "      <td>East Queen Anne</td>\n",
       "      <td>Queen Anne</td>\n",
       "      <td>98109</td>\n",
       "      <td>47.641186</td>\n",
       "      <td>-122.342085</td>\n",
       "      <td>t</td>\n",
       "      <td>8700.0</td>\n",
       "    </tr>\n",
       "  </tbody>\n",
       "</table>\n",
       "<p>3818 rows × 7 columns</p>\n",
       "</div>"
      ],
      "text/plain": [
       "     neighbourhood_cleansed neighbourhood_group_cleansed zipcode   latitude  \\\n",
       "0           West Queen Anne                   Queen Anne   98119  47.636289   \n",
       "1           West Queen Anne                   Queen Anne   98119  47.639123   \n",
       "2           West Queen Anne                   Queen Anne   98119  47.629724   \n",
       "3           West Queen Anne                   Queen Anne   98119  47.638473   \n",
       "4           West Queen Anne                   Queen Anne   98119  47.632918   \n",
       "...                     ...                          ...     ...        ...   \n",
       "3813                Fremont          Other neighborhoods   98107  47.664295   \n",
       "3814            Portage Bay                 Capitol Hill   98102  47.649552   \n",
       "3815          Rainier Beach               Rainier Valley   98178  47.508453   \n",
       "3816           Madison Park                 Capitol Hill   98112  47.632335   \n",
       "3817        East Queen Anne                   Queen Anne   98109  47.641186   \n",
       "\n",
       "       longitude is_location_exact    price  \n",
       "0    -122.371025                 t   8500.0  \n",
       "1    -122.365666                 t  15000.0  \n",
       "2    -122.369483                 t  97500.0  \n",
       "3    -122.369279                 t  10000.0  \n",
       "4    -122.372471                 t  45000.0  \n",
       "...          ...               ...      ...  \n",
       "3813 -122.359170                 t  35900.0  \n",
       "3814 -122.318309                 t   7900.0  \n",
       "3815 -122.240607                 f   9300.0  \n",
       "3816 -122.275530                 f   9900.0  \n",
       "3817 -122.342085                 t   8700.0  \n",
       "\n",
       "[3818 rows x 7 columns]"
      ]
     },
     "execution_count": 476,
     "metadata": {},
     "output_type": "execute_result"
    }
   ],
   "source": [
    "loc"
   ]
  },
  {
   "cell_type": "code",
   "execution_count": 477,
   "id": "21fdae60-0619-45c1-b918-2528acb6d9c3",
   "metadata": {},
   "outputs": [
    {
     "data": {
      "text/plain": [
       "<matplotlib.collections.PathCollection at 0x1398ff4a0>"
      ]
     },
     "execution_count": 477,
     "metadata": {},
     "output_type": "execute_result"
    },
    {
     "data": {
      "image/png": "[encoded data removed]",
      "text/plain": [
       "<Figure size 640x480 with 1 Axes>"
      ]
     },
     "metadata": {},
     "output_type": "display_data"
    }
   ],
   "source": [
    "plt.scatter(y='longitude',x='latitude',data=loc)"
   ]
  },
  {
   "cell_type": "code",
   "execution_count": 478,
   "id": "cd1114c8-2dfe-407b-ab70-dc0e5aa457a5",
   "metadata": {},
   "outputs": [
    {
     "name": "stdout",
     "output_type": "stream",
     "text": [
      "<class 'pandas.core.frame.DataFrame'>\n",
      "RangeIndex: 3818 entries, 0 to 3817\n",
      "Data columns (total 7 columns):\n",
      " #   Column                        Non-Null Count  Dtype  \n",
      "---  ------                        --------------  -----  \n",
      " 0   neighbourhood_cleansed        3818 non-null   object \n",
      " 1   neighbourhood_group_cleansed  3818 non-null   object \n",
      " 2   zipcode                       3811 non-null   object \n",
      " 3   latitude                      3818 non-null   float64\n",
      " 4   longitude                     3818 non-null   float64\n",
      " 5   is_location_exact             3818 non-null   object \n",
      " 6   price                         3818 non-null   float64\n",
      "dtypes: float64(3), object(4)\n",
      "memory usage: 208.9+ KB\n"
     ]
    }
   ],
   "source": [
    "loc.info()"
   ]
  },
  {
   "cell_type": "code",
   "execution_count": 479,
   "id": "39e878c9-c3ff-4b88-8bd2-2ead15ea6332",
   "metadata": {},
   "outputs": [
    {
     "data": {
      "text/plain": [
       "neighbourhood_cleansed          0\n",
       "neighbourhood_group_cleansed    0\n",
       "zipcode                         7\n",
       "latitude                        0\n",
       "longitude                       0\n",
       "is_location_exact               0\n",
       "price                           0\n",
       "dtype: int64"
      ]
     },
     "execution_count": 479,
     "metadata": {},
     "output_type": "execute_result"
    }
   ],
   "source": [
    "loc.isna().sum()"
   ]
  },
  {
   "cell_type": "code",
   "execution_count": 480,
   "id": "c92b14f6-d087-4434-8be2-1a9675603b83",
   "metadata": {},
   "outputs": [
    {
     "data": {
      "text/plain": [
       "neighbourhood_cleansed\n",
       "Broadway             397\n",
       "Belltown             234\n",
       "Wallingford          167\n",
       "Fremont              158\n",
       "Minor                135\n",
       "                    ... \n",
       "Arbor Heights          5\n",
       "Pinehurst              4\n",
       "South Beacon Hill      4\n",
       "South Park             3\n",
       "Roxhill                2\n",
       "Name: count, Length: 87, dtype: int64"
      ]
     },
     "execution_count": 480,
     "metadata": {},
     "output_type": "execute_result"
    }
   ],
   "source": [
    "loc['neighbourhood_cleansed'].value_counts()"
   ]
  },
  {
   "cell_type": "code",
   "execution_count": 481,
   "id": "9d43ff89-176b-48fc-bd93-135cd3cf6880",
   "metadata": {},
   "outputs": [
    {
     "data": {
      "text/plain": [
       "<Axes: xlabel='neighbourhood_cleansed'>"
      ]
     },
     "execution_count": 481,
     "metadata": {},
     "output_type": "execute_result"
    },
    {
     "data": {
      "image/png": "[encoded data removed]",
      "text/plain": [
       "<Figure size 640x480 with 1 Axes>"
      ]
     },
     "metadata": {},
     "output_type": "display_data"
    }
   ],
   "source": [
    "loc.groupby('neighbourhood_cleansed')['price'].mean().sort_values(ascending=False).head(10).plot(kind='bar')"
   ]
  },
  {
   "cell_type": "code",
   "execution_count": 482,
   "id": "fa106a4a-8ceb-4780-99af-ebc56f565f79",
   "metadata": {},
   "outputs": [
    {
     "data": {
      "text/plain": [
       "Index(['Southeast Magnolia', 'Portage Bay', 'Westlake', 'West Queen Anne',\n",
       "       'Montlake', 'Briarcliff', 'Sunset Hill', 'Industrial District', 'Alki',\n",
       "       'Windermere'],\n",
       "      dtype='object', name='neighbourhood_cleansed')"
      ]
     },
     "execution_count": 482,
     "metadata": {},
     "output_type": "execute_result"
    }
   ],
   "source": [
    "loc.groupby('neighbourhood_cleansed')['price'].mean().sort_values(ascending=False).head(10).index"
   ]
  },
  {
   "cell_type": "code",
   "execution_count": 497,
   "id": "576e790f-e6cf-46f9-a454-7dccf2433119",
   "metadata": {},
   "outputs": [
    {
     "data": {
      "text/plain": [
       "<Axes: xlabel='zipcode'>"
      ]
     },
     "execution_count": 497,
     "metadata": {},
     "output_type": "execute_result"
    },
    {
     "data": {
      "image/png": "[encoded data removed]",
      "text/plain": [
       "<Figure size 640x480 with 1 Axes>"
      ]
     },
     "metadata": {},
     "output_type": "display_data"
    }
   ],
   "source": [
    "zipcodes_list=loc.groupby('zipcode')['price'].mean().sort_values(ascending=False).head(20)\n",
    "loc.groupby('zipcode')['price'].mean().sort_values(ascending=False).head(10).plot(kind='bar')"
   ]
  },
  {
   "cell_type": "code",
   "execution_count": 498,
   "id": "c751e19b-1922-4af5-9076-279c476fb017",
   "metadata": {},
   "outputs": [],
   "source": [
    "zipcodes=zipcodes_list.index"
   ]
  },
  {
   "cell_type": "code",
   "execution_count": 499,
   "id": "016980d2-da45-4b00-9081-70e220c46df8",
   "metadata": {},
   "outputs": [],
   "source": [
    "zipcodes=zipcodes.to_list()"
   ]
  },
  {
   "cell_type": "code",
   "execution_count": 500,
   "id": "f3c390c4-4185-4cad-a8b6-fa0e0bc746a1",
   "metadata": {},
   "outputs": [
    {
     "data": {
      "text/plain": [
       "['98134',\n",
       " '98199',\n",
       " '98101',\n",
       " '98119',\n",
       " '98121',\n",
       " '98109',\n",
       " '98116',\n",
       " '98136',\n",
       " '98112',\n",
       " '98104',\n",
       " '98122',\n",
       " '98107',\n",
       " '98102',\n",
       " '98103',\n",
       " '98126',\n",
       " '98115',\n",
       " '98117',\n",
       " '98105',\n",
       " '98144',\n",
       " '98177']"
      ]
     },
     "execution_count": 500,
     "metadata": {},
     "output_type": "execute_result"
    }
   ],
   "source": [
    "zipcodes"
   ]
  },
  {
   "cell_type": "code",
   "execution_count": 501,
   "id": "5f1dfc86-5222-447c-aea5-7dab3b22cd06",
   "metadata": {},
   "outputs": [
    {
     "data": {
      "text/html": [
       "<div style=\"width:100%;\"><div style=\"position:relative;width:100%;height:0;padding-bottom:60%;\"><span style=\"color:#565656\">Make this Notebook Trusted to load map: File -> Trust Notebook</span><iframe srcdoc=\"&lt;!DOCTYPE html&gt;\n",
       "&lt;html&gt;\n",
       "&lt;head&gt;\n",
       "    \n",
       "    &lt;meta http-equiv=&quot;content-type&quot; content=&quot;text/html; charset=UTF-8&quot; /&gt;\n",
       "    \n",
       "        &lt;script&gt;\n",
       "            L_NO_TOUCH = false;\n",
       "            L_DISABLE_3D = false;\n",
       "        &lt;/script&gt;\n",
       "    \n",
       "    &lt;style&gt;html, body {width: 100%;height: 100%;margin: 0;padding: 0;}&lt;/style&gt;\n",
       "    &lt;style&gt;#map {position:absolute;top:0;bottom:0;right:0;left:0;}&lt;/style&gt;\n",
       "    &lt;script src=&quot;https://cdn.jsdelivr.net/npm/leaflet@1.9.3/dist/leaflet.js&quot;&gt;&lt;/script&gt;\n",
       "    &lt;script src=&quot;https://code.jquery.com/jquery-3.7.1.min.js&quot;&gt;&lt;/script&gt;\n",
       "    &lt;script src=&quot;https://cdn.jsdelivr.net/npm/bootstrap@5.2.2/dist/js/bootstrap.bundle.min.js&quot;&gt;&lt;/script&gt;\n",
       "    &lt;script src=&quot;https://cdnjs.cloudflare.com/ajax/libs/Leaflet.awesome-markers/2.0.2/leaflet.awesome-markers.js&quot;&gt;&lt;/script&gt;\n",
       "    &lt;link rel=&quot;stylesheet&quot; href=&quot;https://cdn.jsdelivr.net/npm/leaflet@1.9.3/dist/leaflet.css&quot;/&gt;\n",
       "    &lt;link rel=&quot;stylesheet&quot; href=&quot;https://cdn.jsdelivr.net/npm/bootstrap@5.2.2/dist/css/bootstrap.min.css&quot;/&gt;\n",
       "    &lt;link rel=&quot;stylesheet&quot; href=&quot;https://netdna.bootstrapcdn.com/bootstrap/3.0.0/css/bootstrap.min.css&quot;/&gt;\n",
       "    &lt;link rel=&quot;stylesheet&quot; href=&quot;https://cdn.jsdelivr.net/npm/@fortawesome/fontawesome-free@6.2.0/css/all.min.css&quot;/&gt;\n",
       "    &lt;link rel=&quot;stylesheet&quot; href=&quot;https://cdnjs.cloudflare.com/ajax/libs/Leaflet.awesome-markers/2.0.2/leaflet.awesome-markers.css&quot;/&gt;\n",
       "    &lt;link rel=&quot;stylesheet&quot; href=&quot;https://cdn.jsdelivr.net/gh/python-visualization/folium/folium/templates/leaflet.awesome.rotate.min.css&quot;/&gt;\n",
       "    \n",
       "            &lt;meta name=&quot;viewport&quot; content=&quot;width=device-width,\n",
       "                initial-scale=1.0, maximum-scale=1.0, user-scalable=no&quot; /&gt;\n",
       "            &lt;style&gt;\n",
       "                #map_0541bd2ab057898e42dd7faeca0541e4 {\n",
       "                    position: relative;\n",
       "                    width: 100.0%;\n",
       "                    height: 100.0%;\n",
       "                    left: 0.0%;\n",
       "                    top: 0.0%;\n",
       "                }\n",
       "                .leaflet-container { font-size: 1rem; }\n",
       "            &lt;/style&gt;\n",
       "        \n",
       "&lt;/head&gt;\n",
       "&lt;body&gt;\n",
       "    \n",
       "    \n",
       "            &lt;div class=&quot;folium-map&quot; id=&quot;map_0541bd2ab057898e42dd7faeca0541e4&quot; &gt;&lt;/div&gt;\n",
       "        \n",
       "&lt;/body&gt;\n",
       "&lt;script&gt;\n",
       "    \n",
       "    \n",
       "            var map_0541bd2ab057898e42dd7faeca0541e4 = L.map(\n",
       "                &quot;map_0541bd2ab057898e42dd7faeca0541e4&quot;,\n",
       "                {\n",
       "                    center: [47.6062, -122.3321],\n",
       "                    crs: L.CRS.EPSG3857,\n",
       "                    zoom: 10,\n",
       "                    zoomControl: true,\n",
       "                    preferCanvas: false,\n",
       "                }\n",
       "            );\n",
       "\n",
       "            \n",
       "\n",
       "        \n",
       "    \n",
       "            var tile_layer_3544d2c0a0c16f45b79af5f7d4fe3883 = L.tileLayer(\n",
       "                &quot;https://tile.openstreetmap.org/{z}/{x}/{y}.png&quot;,\n",
       "                {&quot;attribution&quot;: &quot;\\u0026copy; \\u003ca href=\\&quot;https://www.openstreetmap.org/copyright\\&quot;\\u003eOpenStreetMap\\u003c/a\\u003e contributors&quot;, &quot;detectRetina&quot;: false, &quot;maxNativeZoom&quot;: 19, &quot;maxZoom&quot;: 19, &quot;minZoom&quot;: 0, &quot;noWrap&quot;: false, &quot;opacity&quot;: 1, &quot;subdomains&quot;: &quot;abc&quot;, &quot;tms&quot;: false}\n",
       "            );\n",
       "        \n",
       "    \n",
       "            tile_layer_3544d2c0a0c16f45b79af5f7d4fe3883.addTo(map_0541bd2ab057898e42dd7faeca0541e4);\n",
       "        \n",
       "    \n",
       "            var marker_4410c1fb6d5e29f4339bddbfcf7e782a = L.marker(\n",
       "                [56.265103233333335, 21.494389333333334],\n",
       "                {}\n",
       "            ).addTo(map_0541bd2ab057898e42dd7faeca0541e4);\n",
       "        \n",
       "    \n",
       "        var popup_e5c0999f1ef57da06a01e7c3f00c2560 = L.popup({&quot;maxWidth&quot;: &quot;100%&quot;});\n",
       "\n",
       "        \n",
       "            \n",
       "                var html_d0bbfc90336fa2d66ae194acb99ac620 = $(`&lt;div id=&quot;html_d0bbfc90336fa2d66ae194acb99ac620&quot; style=&quot;width: 100.0%; height: 100.0%;&quot;&gt;Zipcode: 98134&lt;/div&gt;`)[0];\n",
       "                popup_e5c0999f1ef57da06a01e7c3f00c2560.setContent(html_d0bbfc90336fa2d66ae194acb99ac620);\n",
       "            \n",
       "        \n",
       "\n",
       "        marker_4410c1fb6d5e29f4339bddbfcf7e782a.bindPopup(popup_e5c0999f1ef57da06a01e7c3f00c2560)\n",
       "        ;\n",
       "\n",
       "        \n",
       "    \n",
       "    \n",
       "            var marker_cc5d26670478237e212ae22d00d762f9 = L.marker(\n",
       "                [47.64836412431363, -122.39776481681919],\n",
       "                {}\n",
       "            ).addTo(map_0541bd2ab057898e42dd7faeca0541e4);\n",
       "        \n",
       "    \n",
       "        var popup_d15074604af40c755a66d80cafd765ea = L.popup({&quot;maxWidth&quot;: &quot;100%&quot;});\n",
       "\n",
       "        \n",
       "            \n",
       "                var html_439c5b62541402512fa12c4ada9135d2 = $(`&lt;div id=&quot;html_439c5b62541402512fa12c4ada9135d2&quot; style=&quot;width: 100.0%; height: 100.0%;&quot;&gt;Zipcode: 98199&lt;/div&gt;`)[0];\n",
       "                popup_d15074604af40c755a66d80cafd765ea.setContent(html_439c5b62541402512fa12c4ada9135d2);\n",
       "            \n",
       "        \n",
       "\n",
       "        marker_cc5d26670478237e212ae22d00d762f9.bindPopup(popup_d15074604af40c755a66d80cafd765ea)\n",
       "        ;\n",
       "\n",
       "        \n",
       "    \n",
       "    \n",
       "            var marker_89fb3c22680a1a8516ecdd6a8767d6b1 = L.marker(\n",
       "                [66.7168076, 27.4110905],\n",
       "                {}\n",
       "            ).addTo(map_0541bd2ab057898e42dd7faeca0541e4);\n",
       "        \n",
       "    \n",
       "        var popup_11a26fd17b6672a01ec5ad29c9842f1d = L.popup({&quot;maxWidth&quot;: &quot;100%&quot;});\n",
       "\n",
       "        \n",
       "            \n",
       "                var html_de6dd0e1cc2c81997cf7f8896f6243ec = $(`&lt;div id=&quot;html_de6dd0e1cc2c81997cf7f8896f6243ec&quot; style=&quot;width: 100.0%; height: 100.0%;&quot;&gt;Zipcode: 98101&lt;/div&gt;`)[0];\n",
       "                popup_11a26fd17b6672a01ec5ad29c9842f1d.setContent(html_de6dd0e1cc2c81997cf7f8896f6243ec);\n",
       "            \n",
       "        \n",
       "\n",
       "        marker_89fb3c22680a1a8516ecdd6a8767d6b1.bindPopup(popup_11a26fd17b6672a01ec5ad29c9842f1d)\n",
       "        ;\n",
       "\n",
       "        \n",
       "    \n",
       "    \n",
       "            var marker_39adac106b129612395563db4d1fa888 = L.marker(\n",
       "                [56.26935725, 21.5448542],\n",
       "                {}\n",
       "            ).addTo(map_0541bd2ab057898e42dd7faeca0541e4);\n",
       "        \n",
       "    \n",
       "        var popup_19cdcc3f9d8cc7ce07cd28bd76c27127 = L.popup({&quot;maxWidth&quot;: &quot;100%&quot;});\n",
       "\n",
       "        \n",
       "            \n",
       "                var html_1947a3d5d55cb7fcbb3082ad192ea549 = $(`&lt;div id=&quot;html_1947a3d5d55cb7fcbb3082ad192ea549&quot; style=&quot;width: 100.0%; height: 100.0%;&quot;&gt;Zipcode: 98119&lt;/div&gt;`)[0];\n",
       "                popup_19cdcc3f9d8cc7ce07cd28bd76c27127.setContent(html_1947a3d5d55cb7fcbb3082ad192ea549);\n",
       "            \n",
       "        \n",
       "\n",
       "        marker_39adac106b129612395563db4d1fa888.bindPopup(popup_19cdcc3f9d8cc7ce07cd28bd76c27127)\n",
       "        ;\n",
       "\n",
       "        \n",
       "    \n",
       "    \n",
       "            var marker_42c10dec4cc411fa892df6514bc857d1 = L.marker(\n",
       "                [56.26612797692307, 21.534918184615385],\n",
       "                {}\n",
       "            ).addTo(map_0541bd2ab057898e42dd7faeca0541e4);\n",
       "        \n",
       "    \n",
       "        var popup_211c7e75410d69faf8b25a75a000d8f4 = L.popup({&quot;maxWidth&quot;: &quot;100%&quot;});\n",
       "\n",
       "        \n",
       "            \n",
       "                var html_ad135ebcea14427a020b913a42dcec41 = $(`&lt;div id=&quot;html_ad135ebcea14427a020b913a42dcec41&quot; style=&quot;width: 100.0%; height: 100.0%;&quot;&gt;Zipcode: 98121&lt;/div&gt;`)[0];\n",
       "                popup_211c7e75410d69faf8b25a75a000d8f4.setContent(html_ad135ebcea14427a020b913a42dcec41);\n",
       "            \n",
       "        \n",
       "\n",
       "        marker_42c10dec4cc411fa892df6514bc857d1.bindPopup(popup_211c7e75410d69faf8b25a75a000d8f4)\n",
       "        ;\n",
       "\n",
       "        \n",
       "    \n",
       "    \n",
       "            var marker_af3faa663cbf8cd1324fe2577b8b9383 = L.marker(\n",
       "                [56.2736187, 21.538413025],\n",
       "                {}\n",
       "            ).addTo(map_0541bd2ab057898e42dd7faeca0541e4);\n",
       "        \n",
       "    \n",
       "        var popup_16a0a9ab0c3816af784ec408dbb5bf2d = L.popup({&quot;maxWidth&quot;: &quot;100%&quot;});\n",
       "\n",
       "        \n",
       "            \n",
       "                var html_2739574dc021c808e5ce8b14894ca68f = $(`&lt;div id=&quot;html_2739574dc021c808e5ce8b14894ca68f&quot; style=&quot;width: 100.0%; height: 100.0%;&quot;&gt;Zipcode: 98109&lt;/div&gt;`)[0];\n",
       "                popup_16a0a9ab0c3816af784ec408dbb5bf2d.setContent(html_2739574dc021c808e5ce8b14894ca68f);\n",
       "            \n",
       "        \n",
       "\n",
       "        marker_af3faa663cbf8cd1324fe2577b8b9383.bindPopup(popup_16a0a9ab0c3816af784ec408dbb5bf2d)\n",
       "        ;\n",
       "\n",
       "        \n",
       "    \n",
       "    \n",
       "            var marker_511fff143e85139a844ff09227efcf08 = L.marker(\n",
       "                [56.270993625, 21.5295356625],\n",
       "                {}\n",
       "            ).addTo(map_0541bd2ab057898e42dd7faeca0541e4);\n",
       "        \n",
       "    \n",
       "        var popup_8e237967ecd7c0302cb862f442b44cd1 = L.popup({&quot;maxWidth&quot;: &quot;100%&quot;});\n",
       "\n",
       "        \n",
       "            \n",
       "                var html_966d2c2a92fc086ffa6276650be8f36e = $(`&lt;div id=&quot;html_966d2c2a92fc086ffa6276650be8f36e&quot; style=&quot;width: 100.0%; height: 100.0%;&quot;&gt;Zipcode: 98116&lt;/div&gt;`)[0];\n",
       "                popup_8e237967ecd7c0302cb862f442b44cd1.setContent(html_966d2c2a92fc086ffa6276650be8f36e);\n",
       "            \n",
       "        \n",
       "\n",
       "        marker_511fff143e85139a844ff09227efcf08.bindPopup(popup_8e237967ecd7c0302cb862f442b44cd1)\n",
       "        ;\n",
       "\n",
       "        \n",
       "    \n",
       "    \n",
       "            var marker_433e585bb5c8abb4be2cfccde3ec614b = L.marker(\n",
       "                [38.099476, 15.4954635],\n",
       "                {}\n",
       "            ).addTo(map_0541bd2ab057898e42dd7faeca0541e4);\n",
       "        \n",
       "    \n",
       "        var popup_90cd3a8967bad8a6cf6b2f51346a934e = L.popup({&quot;maxWidth&quot;: &quot;100%&quot;});\n",
       "\n",
       "        \n",
       "            \n",
       "                var html_2b4749f33b247a0b39052d0db4544193 = $(`&lt;div id=&quot;html_2b4749f33b247a0b39052d0db4544193&quot; style=&quot;width: 100.0%; height: 100.0%;&quot;&gt;Zipcode: 98136&lt;/div&gt;`)[0];\n",
       "                popup_90cd3a8967bad8a6cf6b2f51346a934e.setContent(html_2b4749f33b247a0b39052d0db4544193);\n",
       "            \n",
       "        \n",
       "\n",
       "        marker_433e585bb5c8abb4be2cfccde3ec614b.bindPopup(popup_90cd3a8967bad8a6cf6b2f51346a934e)\n",
       "        ;\n",
       "\n",
       "        \n",
       "    \n",
       "    \n",
       "            var marker_63ddbd2973a18fb9e5fd3f458c0001c8 = L.marker(\n",
       "                [56.271875975, 21.5323508],\n",
       "                {}\n",
       "            ).addTo(map_0541bd2ab057898e42dd7faeca0541e4);\n",
       "        \n",
       "    \n",
       "        var popup_217e06afeadd9e99237338cb2c242fce = L.popup({&quot;maxWidth&quot;: &quot;100%&quot;});\n",
       "\n",
       "        \n",
       "            \n",
       "                var html_15537d90968f4ebaef073329936a8144 = $(`&lt;div id=&quot;html_15537d90968f4ebaef073329936a8144&quot; style=&quot;width: 100.0%; height: 100.0%;&quot;&gt;Zipcode: 98112&lt;/div&gt;`)[0];\n",
       "                popup_217e06afeadd9e99237338cb2c242fce.setContent(html_15537d90968f4ebaef073329936a8144);\n",
       "            \n",
       "        \n",
       "\n",
       "        marker_63ddbd2973a18fb9e5fd3f458c0001c8.bindPopup(popup_217e06afeadd9e99237338cb2c242fce)\n",
       "        ;\n",
       "\n",
       "        \n",
       "    \n",
       "    \n",
       "            var marker_593d5e473aef265b16a432eec1893742 = L.marker(\n",
       "                [47.60163380473738, -122.32918632111225],\n",
       "                {}\n",
       "            ).addTo(map_0541bd2ab057898e42dd7faeca0541e4);\n",
       "        \n",
       "    \n",
       "        var popup_4eb677f964cc022e3554960bc083d2cf = L.popup({&quot;maxWidth&quot;: &quot;100%&quot;});\n",
       "\n",
       "        \n",
       "            \n",
       "                var html_5aced08013603c072a17ca9fbd47e550 = $(`&lt;div id=&quot;html_5aced08013603c072a17ca9fbd47e550&quot; style=&quot;width: 100.0%; height: 100.0%;&quot;&gt;Zipcode: 98104&lt;/div&gt;`)[0];\n",
       "                popup_4eb677f964cc022e3554960bc083d2cf.setContent(html_5aced08013603c072a17ca9fbd47e550);\n",
       "            \n",
       "        \n",
       "\n",
       "        marker_593d5e473aef265b16a432eec1893742.bindPopup(popup_4eb677f964cc022e3554960bc083d2cf)\n",
       "        ;\n",
       "\n",
       "        \n",
       "    \n",
       "    \n",
       "            var marker_9e04cb6433a36c0a52d57a4335ffdb49 = L.marker(\n",
       "                [56.234107578571425, 21.53010765],\n",
       "                {}\n",
       "            ).addTo(map_0541bd2ab057898e42dd7faeca0541e4);\n",
       "        \n",
       "    \n",
       "        var popup_e3b2551ae07496aae87fe671b3817de9 = L.popup({&quot;maxWidth&quot;: &quot;100%&quot;});\n",
       "\n",
       "        \n",
       "            \n",
       "                var html_3f21dbf1e2740abfdfb5ead86b78fe36 = $(`&lt;div id=&quot;html_3f21dbf1e2740abfdfb5ead86b78fe36&quot; style=&quot;width: 100.0%; height: 100.0%;&quot;&gt;Zipcode: 98122&lt;/div&gt;`)[0];\n",
       "                popup_e3b2551ae07496aae87fe671b3817de9.setContent(html_3f21dbf1e2740abfdfb5ead86b78fe36);\n",
       "            \n",
       "        \n",
       "\n",
       "        marker_9e04cb6433a36c0a52d57a4335ffdb49.bindPopup(popup_e3b2551ae07496aae87fe671b3817de9)\n",
       "        ;\n",
       "\n",
       "        \n",
       "    \n",
       "    \n",
       "            var marker_fca16f5a490a979520d175928c78cd06 = L.marker(\n",
       "                [4.4799425571428575, 114.03260662857144],\n",
       "                {}\n",
       "            ).addTo(map_0541bd2ab057898e42dd7faeca0541e4);\n",
       "        \n",
       "    \n",
       "        var popup_c15066da95a72a8a305a5a01a06d8aef = L.popup({&quot;maxWidth&quot;: &quot;100%&quot;});\n",
       "\n",
       "        \n",
       "            \n",
       "                var html_51a404419b125862d71f44e0111a23c5 = $(`&lt;div id=&quot;html_51a404419b125862d71f44e0111a23c5&quot; style=&quot;width: 100.0%; height: 100.0%;&quot;&gt;Zipcode: 98107&lt;/div&gt;`)[0];\n",
       "                popup_c15066da95a72a8a305a5a01a06d8aef.setContent(html_51a404419b125862d71f44e0111a23c5);\n",
       "            \n",
       "        \n",
       "\n",
       "        marker_fca16f5a490a979520d175928c78cd06.bindPopup(popup_c15066da95a72a8a305a5a01a06d8aef)\n",
       "        ;\n",
       "\n",
       "        \n",
       "    \n",
       "    \n",
       "            var marker_a9acc09633534d69467e1eb6fe752dfa = L.marker(\n",
       "                [47.63386634887979, -122.32209294470056],\n",
       "                {}\n",
       "            ).addTo(map_0541bd2ab057898e42dd7faeca0541e4);\n",
       "        \n",
       "    \n",
       "        var popup_b480cf81daf6c84232aaa3011b8514d8 = L.popup({&quot;maxWidth&quot;: &quot;100%&quot;});\n",
       "\n",
       "        \n",
       "            \n",
       "                var html_4d736660e15aea2d9798df8d457624db = $(`&lt;div id=&quot;html_4d736660e15aea2d9798df8d457624db&quot; style=&quot;width: 100.0%; height: 100.0%;&quot;&gt;Zipcode: 98102&lt;/div&gt;`)[0];\n",
       "                popup_b480cf81daf6c84232aaa3011b8514d8.setContent(html_4d736660e15aea2d9798df8d457624db);\n",
       "            \n",
       "        \n",
       "\n",
       "        marker_a9acc09633534d69467e1eb6fe752dfa.bindPopup(popup_b480cf81daf6c84232aaa3011b8514d8)\n",
       "        ;\n",
       "\n",
       "        \n",
       "    \n",
       "    \n",
       "            var marker_e1e4b3f03f94ef75130936bccbf3e204 = L.marker(\n",
       "                [47.67366424152273, -122.34400620502569],\n",
       "                {}\n",
       "            ).addTo(map_0541bd2ab057898e42dd7faeca0541e4);\n",
       "        \n",
       "    \n",
       "        var popup_c6683d31a30f315b25f999ccd28d9488 = L.popup({&quot;maxWidth&quot;: &quot;100%&quot;});\n",
       "\n",
       "        \n",
       "            \n",
       "                var html_49c15b7172e9a533f29eb57a3bf65250 = $(`&lt;div id=&quot;html_49c15b7172e9a533f29eb57a3bf65250&quot; style=&quot;width: 100.0%; height: 100.0%;&quot;&gt;Zipcode: 98103&lt;/div&gt;`)[0];\n",
       "                popup_c6683d31a30f315b25f999ccd28d9488.setContent(html_49c15b7172e9a533f29eb57a3bf65250);\n",
       "            \n",
       "        \n",
       "\n",
       "        marker_e1e4b3f03f94ef75130936bccbf3e204.bindPopup(popup_c6683d31a30f315b25f999ccd28d9488)\n",
       "        ;\n",
       "\n",
       "        \n",
       "    \n",
       "    \n",
       "            var marker_aca81e669a50407c3691ba2dad28dc59 = L.marker(\n",
       "                [56.2721566173913, 21.514896673913043],\n",
       "                {}\n",
       "            ).addTo(map_0541bd2ab057898e42dd7faeca0541e4);\n",
       "        \n",
       "    \n",
       "        var popup_3db2321241eaf0a4534b9598b06aebee = L.popup({&quot;maxWidth&quot;: &quot;100%&quot;});\n",
       "\n",
       "        \n",
       "            \n",
       "                var html_07318c2f77cc0045e364541e044013c0 = $(`&lt;div id=&quot;html_07318c2f77cc0045e364541e044013c0&quot; style=&quot;width: 100.0%; height: 100.0%;&quot;&gt;Zipcode: 98126&lt;/div&gt;`)[0];\n",
       "                popup_3db2321241eaf0a4534b9598b06aebee.setContent(html_07318c2f77cc0045e364541e044013c0);\n",
       "            \n",
       "        \n",
       "\n",
       "        marker_aca81e669a50407c3691ba2dad28dc59.bindPopup(popup_3db2321241eaf0a4534b9598b06aebee)\n",
       "        ;\n",
       "\n",
       "        \n",
       "    \n",
       "    \n",
       "            var marker_6e4fc487ce753c549314d8f3e2bdded0 = L.marker(\n",
       "                [-1.183628, 136.0818795],\n",
       "                {}\n",
       "            ).addTo(map_0541bd2ab057898e42dd7faeca0541e4);\n",
       "        \n",
       "    \n",
       "        var popup_1e6ff0356cc5662970a04136cef6aa0a = L.popup({&quot;maxWidth&quot;: &quot;100%&quot;});\n",
       "\n",
       "        \n",
       "            \n",
       "                var html_2653886e957c15e53610de2f81e3acc6 = $(`&lt;div id=&quot;html_2653886e957c15e53610de2f81e3acc6&quot; style=&quot;width: 100.0%; height: 100.0%;&quot;&gt;Zipcode: 98115&lt;/div&gt;`)[0];\n",
       "                popup_1e6ff0356cc5662970a04136cef6aa0a.setContent(html_2653886e957c15e53610de2f81e3acc6);\n",
       "            \n",
       "        \n",
       "\n",
       "        marker_6e4fc487ce753c549314d8f3e2bdded0.bindPopup(popup_1e6ff0356cc5662970a04136cef6aa0a)\n",
       "        ;\n",
       "\n",
       "        \n",
       "    \n",
       "    \n",
       "            var marker_48d1201d6540b0a87abf564ae440bf6e = L.marker(\n",
       "                [56.2702306, 21.53538211818182],\n",
       "                {}\n",
       "            ).addTo(map_0541bd2ab057898e42dd7faeca0541e4);\n",
       "        \n",
       "    \n",
       "        var popup_bc3bd47cb298282d87b442c476719bcf = L.popup({&quot;maxWidth&quot;: &quot;100%&quot;});\n",
       "\n",
       "        \n",
       "            \n",
       "                var html_7b1509623223f1d771e73b4b56f2d83b = $(`&lt;div id=&quot;html_7b1509623223f1d771e73b4b56f2d83b&quot; style=&quot;width: 100.0%; height: 100.0%;&quot;&gt;Zipcode: 98117&lt;/div&gt;`)[0];\n",
       "                popup_bc3bd47cb298282d87b442c476719bcf.setContent(html_7b1509623223f1d771e73b4b56f2d83b);\n",
       "            \n",
       "        \n",
       "\n",
       "        marker_48d1201d6540b0a87abf564ae440bf6e.bindPopup(popup_bc3bd47cb298282d87b442c476719bcf)\n",
       "        ;\n",
       "\n",
       "        \n",
       "    \n",
       "    \n",
       "            var marker_b8c26076d10ec1557d70f526995cd2cb = L.marker(\n",
       "                [56.2814639125, 21.5173298125],\n",
       "                {}\n",
       "            ).addTo(map_0541bd2ab057898e42dd7faeca0541e4);\n",
       "        \n",
       "    \n",
       "        var popup_390ded38a6a714eafb7c0398b5d9412b = L.popup({&quot;maxWidth&quot;: &quot;100%&quot;});\n",
       "\n",
       "        \n",
       "            \n",
       "                var html_95c3cfb8b5aa6c8d352382a65e0fa26f = $(`&lt;div id=&quot;html_95c3cfb8b5aa6c8d352382a65e0fa26f&quot; style=&quot;width: 100.0%; height: 100.0%;&quot;&gt;Zipcode: 98105&lt;/div&gt;`)[0];\n",
       "                popup_390ded38a6a714eafb7c0398b5d9412b.setContent(html_95c3cfb8b5aa6c8d352382a65e0fa26f);\n",
       "            \n",
       "        \n",
       "\n",
       "        marker_b8c26076d10ec1557d70f526995cd2cb.bindPopup(popup_390ded38a6a714eafb7c0398b5d9412b)\n",
       "        ;\n",
       "\n",
       "        \n",
       "    \n",
       "    \n",
       "            var marker_72f52c4a2ea99c0ba894329bed6db376 = L.marker(\n",
       "                [47.585308762267445, -122.30223466187687],\n",
       "                {}\n",
       "            ).addTo(map_0541bd2ab057898e42dd7faeca0541e4);\n",
       "        \n",
       "    \n",
       "        var popup_163fd179405ca25372cf2f5fe4890f52 = L.popup({&quot;maxWidth&quot;: &quot;100%&quot;});\n",
       "\n",
       "        \n",
       "            \n",
       "                var html_ed87554f19e20ba1037bd994e5ef2927 = $(`&lt;div id=&quot;html_ed87554f19e20ba1037bd994e5ef2927&quot; style=&quot;width: 100.0%; height: 100.0%;&quot;&gt;Zipcode: 98144&lt;/div&gt;`)[0];\n",
       "                popup_163fd179405ca25372cf2f5fe4890f52.setContent(html_ed87554f19e20ba1037bd994e5ef2927);\n",
       "            \n",
       "        \n",
       "\n",
       "        marker_72f52c4a2ea99c0ba894329bed6db376.bindPopup(popup_163fd179405ca25372cf2f5fe4890f52)\n",
       "        ;\n",
       "\n",
       "        \n",
       "    \n",
       "    \n",
       "            var marker_c635318eead8410d13f39f771405724d = L.marker(\n",
       "                [47.714501249584025, -122.36686714475873],\n",
       "                {}\n",
       "            ).addTo(map_0541bd2ab057898e42dd7faeca0541e4);\n",
       "        \n",
       "    \n",
       "        var popup_376d7482bd94f3acdaae8bdad9d071db = L.popup({&quot;maxWidth&quot;: &quot;100%&quot;});\n",
       "\n",
       "        \n",
       "            \n",
       "                var html_cdb139ab63e365facb10fd0a2d3cc5d6 = $(`&lt;div id=&quot;html_cdb139ab63e365facb10fd0a2d3cc5d6&quot; style=&quot;width: 100.0%; height: 100.0%;&quot;&gt;Zipcode: 98177&lt;/div&gt;`)[0];\n",
       "                popup_376d7482bd94f3acdaae8bdad9d071db.setContent(html_cdb139ab63e365facb10fd0a2d3cc5d6);\n",
       "            \n",
       "        \n",
       "\n",
       "        marker_c635318eead8410d13f39f771405724d.bindPopup(popup_376d7482bd94f3acdaae8bdad9d071db)\n",
       "        ;\n",
       "\n",
       "        \n",
       "    \n",
       "&lt;/script&gt;\n",
       "&lt;/html&gt;\" style=\"position:absolute;width:100%;height:100%;left:0;top:0;border:none !important;\" allowfullscreen webkitallowfullscreen mozallowfullscreen></iframe></div></div>"
      ],
      "text/plain": [
       "<folium.folium.Map at 0x13983bc20>"
      ]
     },
     "execution_count": 501,
     "metadata": {},
     "output_type": "execute_result"
    }
   ],
   "source": [
    "import folium\n",
    "from geopy.geocoders import Nominatim\n",
    "\n",
    "\n",
    "# Initialize Nominatim geocoder\n",
    "geolocator = Nominatim(user_agent=\"zipcode_locator\")\n",
    "\n",
    "# Create a map centered at Seattle\n",
    "seattle_map = folium.Map(location=[47.6062, -122.3321], zoom_start=10)\n",
    "\n",
    "# Add markers for each zip code\n",
    "for zipcode in zipcodes:\n",
    "    location = geolocator.geocode(zipcode)\n",
    "    if location:\n",
    "        folium.Marker(\n",
    "            location=[location.latitude, location.longitude],\n",
    "            popup=\"Zipcode: {}\".format(zipcode)\n",
    "        ).add_to(seattle_map)\n",
    "\n",
    "# Display the map\n",
    "seattle_map\n"
   ]
  },
  {
   "cell_type": "code",
   "execution_count": 502,
   "id": "2d93f8a9-1cee-4855-ad48-3465506a1766",
   "metadata": {},
   "outputs": [
    {
     "data": {
      "text/html": [
       "<div>\n",
       "<style scoped>\n",
       "    .dataframe tbody tr th:only-of-type {\n",
       "        vertical-align: middle;\n",
       "    }\n",
       "\n",
       "    .dataframe tbody tr th {\n",
       "        vertical-align: top;\n",
       "    }\n",
       "\n",
       "    .dataframe thead th {\n",
       "        text-align: right;\n",
       "    }\n",
       "</style>\n",
       "<table border=\"1\" class=\"dataframe\">\n",
       "  <thead>\n",
       "    <tr style=\"text-align: right;\">\n",
       "      <th></th>\n",
       "      <th>neighbourhood_cleansed</th>\n",
       "      <th>neighbourhood_group_cleansed</th>\n",
       "      <th>zipcode</th>\n",
       "      <th>latitude</th>\n",
       "      <th>longitude</th>\n",
       "      <th>is_location_exact</th>\n",
       "      <th>price</th>\n",
       "    </tr>\n",
       "  </thead>\n",
       "  <tbody>\n",
       "    <tr>\n",
       "      <th>0</th>\n",
       "      <td>West Queen Anne</td>\n",
       "      <td>Queen Anne</td>\n",
       "      <td>98119</td>\n",
       "      <td>47.636289</td>\n",
       "      <td>-122.371025</td>\n",
       "      <td>True</td>\n",
       "      <td>8500.0</td>\n",
       "    </tr>\n",
       "    <tr>\n",
       "      <th>1</th>\n",
       "      <td>West Queen Anne</td>\n",
       "      <td>Queen Anne</td>\n",
       "      <td>98119</td>\n",
       "      <td>47.639123</td>\n",
       "      <td>-122.365666</td>\n",
       "      <td>True</td>\n",
       "      <td>15000.0</td>\n",
       "    </tr>\n",
       "    <tr>\n",
       "      <th>2</th>\n",
       "      <td>West Queen Anne</td>\n",
       "      <td>Queen Anne</td>\n",
       "      <td>98119</td>\n",
       "      <td>47.629724</td>\n",
       "      <td>-122.369483</td>\n",
       "      <td>True</td>\n",
       "      <td>97500.0</td>\n",
       "    </tr>\n",
       "    <tr>\n",
       "      <th>3</th>\n",
       "      <td>West Queen Anne</td>\n",
       "      <td>Queen Anne</td>\n",
       "      <td>98119</td>\n",
       "      <td>47.638473</td>\n",
       "      <td>-122.369279</td>\n",
       "      <td>True</td>\n",
       "      <td>10000.0</td>\n",
       "    </tr>\n",
       "    <tr>\n",
       "      <th>4</th>\n",
       "      <td>West Queen Anne</td>\n",
       "      <td>Queen Anne</td>\n",
       "      <td>98119</td>\n",
       "      <td>47.632918</td>\n",
       "      <td>-122.372471</td>\n",
       "      <td>True</td>\n",
       "      <td>45000.0</td>\n",
       "    </tr>\n",
       "    <tr>\n",
       "      <th>...</th>\n",
       "      <td>...</td>\n",
       "      <td>...</td>\n",
       "      <td>...</td>\n",
       "      <td>...</td>\n",
       "      <td>...</td>\n",
       "      <td>...</td>\n",
       "      <td>...</td>\n",
       "    </tr>\n",
       "    <tr>\n",
       "      <th>3813</th>\n",
       "      <td>Fremont</td>\n",
       "      <td>Other neighborhoods</td>\n",
       "      <td>98107</td>\n",
       "      <td>47.664295</td>\n",
       "      <td>-122.359170</td>\n",
       "      <td>True</td>\n",
       "      <td>35900.0</td>\n",
       "    </tr>\n",
       "    <tr>\n",
       "      <th>3814</th>\n",
       "      <td>Portage Bay</td>\n",
       "      <td>Capitol Hill</td>\n",
       "      <td>98102</td>\n",
       "      <td>47.649552</td>\n",
       "      <td>-122.318309</td>\n",
       "      <td>True</td>\n",
       "      <td>7900.0</td>\n",
       "    </tr>\n",
       "    <tr>\n",
       "      <th>3815</th>\n",
       "      <td>Rainier Beach</td>\n",
       "      <td>Rainier Valley</td>\n",
       "      <td>98178</td>\n",
       "      <td>47.508453</td>\n",
       "      <td>-122.240607</td>\n",
       "      <td>False</td>\n",
       "      <td>9300.0</td>\n",
       "    </tr>\n",
       "    <tr>\n",
       "      <th>3816</th>\n",
       "      <td>Madison Park</td>\n",
       "      <td>Capitol Hill</td>\n",
       "      <td>98112</td>\n",
       "      <td>47.632335</td>\n",
       "      <td>-122.275530</td>\n",
       "      <td>False</td>\n",
       "      <td>9900.0</td>\n",
       "    </tr>\n",
       "    <tr>\n",
       "      <th>3817</th>\n",
       "      <td>East Queen Anne</td>\n",
       "      <td>Queen Anne</td>\n",
       "      <td>98109</td>\n",
       "      <td>47.641186</td>\n",
       "      <td>-122.342085</td>\n",
       "      <td>True</td>\n",
       "      <td>8700.0</td>\n",
       "    </tr>\n",
       "  </tbody>\n",
       "</table>\n",
       "<p>3818 rows × 7 columns</p>\n",
       "</div>"
      ],
      "text/plain": [
       "     neighbourhood_cleansed neighbourhood_group_cleansed zipcode   latitude  \\\n",
       "0           West Queen Anne                   Queen Anne   98119  47.636289   \n",
       "1           West Queen Anne                   Queen Anne   98119  47.639123   \n",
       "2           West Queen Anne                   Queen Anne   98119  47.629724   \n",
       "3           West Queen Anne                   Queen Anne   98119  47.638473   \n",
       "4           West Queen Anne                   Queen Anne   98119  47.632918   \n",
       "...                     ...                          ...     ...        ...   \n",
       "3813                Fremont          Other neighborhoods   98107  47.664295   \n",
       "3814            Portage Bay                 Capitol Hill   98102  47.649552   \n",
       "3815          Rainier Beach               Rainier Valley   98178  47.508453   \n",
       "3816           Madison Park                 Capitol Hill   98112  47.632335   \n",
       "3817        East Queen Anne                   Queen Anne   98109  47.641186   \n",
       "\n",
       "       longitude is_location_exact    price  \n",
       "0    -122.371025              True   8500.0  \n",
       "1    -122.365666              True  15000.0  \n",
       "2    -122.369483              True  97500.0  \n",
       "3    -122.369279              True  10000.0  \n",
       "4    -122.372471              True  45000.0  \n",
       "...          ...               ...      ...  \n",
       "3813 -122.359170              True  35900.0  \n",
       "3814 -122.318309              True   7900.0  \n",
       "3815 -122.240607             False   9300.0  \n",
       "3816 -122.275530             False   9900.0  \n",
       "3817 -122.342085              True   8700.0  \n",
       "\n",
       "[3818 rows x 7 columns]"
      ]
     },
     "execution_count": 502,
     "metadata": {},
     "output_type": "execute_result"
    }
   ],
   "source": [
    "loc"
   ]
  },
  {
   "cell_type": "code",
   "execution_count": 489,
   "id": "a5f142ff-61f2-452a-992f-e74f0ea8e03e",
   "metadata": {},
   "outputs": [
    {
     "data": {
      "text/plain": [
       "is_location_exact\n",
       "t    3412\n",
       "f     406\n",
       "Name: count, dtype: int64"
      ]
     },
     "execution_count": 489,
     "metadata": {},
     "output_type": "execute_result"
    }
   ],
   "source": [
    "loc['is_location_exact'].value_counts()"
   ]
  },
  {
   "cell_type": "code",
   "execution_count": 503,
   "id": "d37ac961-f964-4b83-b4ff-b36d5052b6c6",
   "metadata": {},
   "outputs": [],
   "source": [
    "loc['is_location_exact']=loc['is_location_exact'].str.replace('t','True').str.replace('f','False')"
   ]
  },
  {
   "cell_type": "code",
   "execution_count": 504,
   "id": "a80463bc-05ea-4c7e-8cab-0c3918abb9ad",
   "metadata": {},
   "outputs": [
    {
     "data": {
      "text/plain": [
       "is_location_exact\n",
       "True     3412\n",
       "False     406\n",
       "Name: count, dtype: int64"
      ]
     },
     "execution_count": 504,
     "metadata": {},
     "output_type": "execute_result"
    }
   ],
   "source": [
    "loc['is_location_exact'].value_counts()"
   ]
  },
  {
   "cell_type": "code",
   "execution_count": 505,
   "id": "a215d0e7-a112-4148-99d3-00c1aca84b3d",
   "metadata": {},
   "outputs": [
    {
     "data": {
      "text/plain": [
       "<Axes: xlabel='is_location_exact'>"
      ]
     },
     "execution_count": 505,
     "metadata": {},
     "output_type": "execute_result"
    },
    {
     "data": {
      "image/png": "[encoded data removed]",
      "text/plain": [
       "<Figure size 640x480 with 1 Axes>"
      ]
     },
     "metadata": {},
     "output_type": "display_data"
    }
   ],
   "source": [
    "loc.groupby('is_location_exact')['price'].mean().plot(kind='bar')\n"
   ]
  },
  {
   "cell_type": "code",
   "execution_count": 506,
   "id": "7340decf-446f-48d7-b7ce-22f664c17906",
   "metadata": {},
   "outputs": [
    {
     "name": "stdout",
     "output_type": "stream",
     "text": [
      "Difference in mean prices: 3.65835354975126\n"
     ]
    }
   ],
   "source": [
    "# Calculate the mean price for each group\n",
    "mean_prices = loc.groupby('is_location_exact')['price'].mean()\n",
    "\n",
    "# Calculate the difference in mean prices\n",
    "price_difference = (mean_prices['True'] - mean_prices['False'])/mean_prices['True']*100\n",
    "\n",
    "# Display the difference\n",
    "print(\"Difference in mean prices:\", price_difference)\n",
    "\n"
   ]
  },
  {
   "cell_type": "markdown",
   "id": "94f8a349-53a3-4b20-8208-a269277d84e3",
   "metadata": {},
   "source": [
    "<h1>Conclusion Location Analysis</h1>\n",
    "\n",
    "<li><b>Geographical Advantage:</b> Properties with geographical advantages, such as waterfront views, proximity to parks and tourist attractions tend to command higher prices. </li>\n",
    "\n",
    "<li><b>Precision in Location:</b> Our analysis indicates that properties with precise location details fetch a premium (+3.65%) compared to those with approximate or uncertain location information. Visitors often prioritize accuracy and certainty in location, which translates into a higher willingness to pay. </li>\n",
    "\n",
    "<li><b>Accessibility and Convenience:</b> Proximity to essential amenities, transportation hubs, and major thoroughfares positively impacts property prices. </li>\n",
    "\n"
   ]
  },
  {
   "cell_type": "code",
   "execution_count": null,
   "id": "89c426ef-ed38-44f2-a096-3490c24d0a63",
   "metadata": {},
   "outputs": [],
   "source": []
  }
 ],
 "metadata": {
  "kernelspec": {
   "display_name": "Python 3 (ipykernel)",
   "language": "python",
   "name": "python3"
  },
  "language_info": {
   "codemirror_mode": {
    "name": "ipython",
    "version": 3
   },
   "file_extension": ".py",
   "mimetype": "text/x-python",
   "name": "python",
   "nbconvert_exporter": "python",
   "pygments_lexer": "ipython3",
   "version": "3.12.1"
  }
 },
 "nbformat": 4,
 "nbformat_minor": 5
}
